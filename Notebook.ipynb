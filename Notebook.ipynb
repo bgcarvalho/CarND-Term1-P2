{
 "cells": [
  {
   "cell_type": "markdown",
   "metadata": {},
   "source": [
    "# Self-Driving Car Engineer Nanodegree\n",
    "\n",
    "## Deep Learning\n",
    "\n",
    "## Project: Build a Traffic Sign Recognition Classifier\n",
    "\n",
    "This Jupyter notebook contains the code pipeline for a traffic sign classifier tuned for project 2 of Term 1.\n",
    "Python libraries used in this project:\n",
    "\n",
    "- `pickle`: save and load binary python objects\n",
    "- `numpy`: algebra calculations\n",
    "- `matplotlib`: plots and image loading\n",
    "- `tensorflow`: machine learning framework\n",
    "- `sklearn`: machine learning framework\n",
    "\n",
    "Packages `scikit-image` and `cv2` were tested, but not used in final form."
   ]
  },
  {
   "cell_type": "markdown",
   "metadata": {},
   "source": [
    "---\n",
    "## Step 0: Load The Data\n",
    "\n",
    "Input data was provided in binary files."
   ]
  },
  {
   "cell_type": "code",
   "execution_count": 1,
   "metadata": {
    "collapsed": true
   },
   "outputs": [],
   "source": [
    "# Load pickled data\n",
    "import pickle\n",
    "import numpy as np\n",
    "\n",
    "training_file = './traffic-signs-data/train.p'\n",
    "validation_file= './traffic-signs-data/valid.p'\n",
    "testing_file = './traffic-signs-data/test.p'\n",
    "\n",
    "with open(training_file, mode='rb') as f:\n",
    "    train = pickle.load(f)\n",
    "with open(validation_file, mode='rb') as f:\n",
    "    valid = pickle.load(f)\n",
    "with open(testing_file, mode='rb') as f:\n",
    "    test = pickle.load(f)\n",
    "    \n",
    "X_train0, y_train0 = train['features'], train['labels']\n",
    "X_valid0, y_valid0 = valid['features'], valid['labels']\n",
    "X_test0, y_test0 = test['features'], test['labels']"
   ]
  },
  {
   "cell_type": "markdown",
   "metadata": {},
   "source": [
    "---\n",
    "\n",
    "## Step 1: Dataset Summary & Exploration\n",
    "\n",
    "The pickled data is a dictionary with 4 key/value pairs:\n",
    "\n",
    "- `'features'` is a 4D array containing raw pixel data of the traffic sign images, (num examples, width, height, channels).\n",
    "- `'labels'` is a 1D array containing the label/class id of the traffic sign. The file `signnames.csv` contains id -> name mappings for each id.\n",
    "\n"
   ]
  },
  {
   "cell_type": "markdown",
   "metadata": {},
   "source": [
    "### Basic Summary of the Data Set Using Python and Numpy"
   ]
  },
  {
   "cell_type": "code",
   "execution_count": 2,
   "metadata": {},
   "outputs": [
    {
     "name": "stdout",
     "output_type": "stream",
     "text": [
      "Number of training examples = 34799\n",
      "Number of validation examples = 4410\n",
      "Number of testing examples = 12630\n",
      "Image data shape = (32, 32, 3)\n",
      "Number of classes = 43\n",
      "labels shape:  (34799,)\n",
      "[41 41 41 41]\n"
     ]
    }
   ],
   "source": [
    "\n",
    "# Number of training examples\n",
    "n_train = X_train0.shape[0]\n",
    "\n",
    "# Number of validation examples\n",
    "n_validation = X_valid0.shape[0]\n",
    "\n",
    "# Number of testing examples.\n",
    "n_test = X_test0.shape[0]\n",
    "\n",
    "# What's the shape of an traffic sign image?\n",
    "image_shape = X_train0.shape[1], X_train0.shape[2], X_train0.shape[3]\n",
    "\n",
    "# How many unique classes/labels there are in the dataset.\n",
    "n_classes = np.max(np.unique(y_train0).shape)\n",
    "\n",
    "print(\"Number of training examples =\", n_train)\n",
    "print(\"Number of validation examples =\", n_validation)\n",
    "print(\"Number of testing examples =\", n_test)\n",
    "print(\"Image data shape =\", image_shape)\n",
    "print(\"Number of classes =\", n_classes)\n",
    "print(\"labels shape: \", y_train0.shape)\n",
    "print(y_train0[0:4])"
   ]
  },
  {
   "cell_type": "markdown",
   "metadata": {},
   "source": [
    "### Visualization of the dataset\n",
    "\n",
    "Next, it is presented 4 random images from the training dataset and a histogram of labels (output)."
   ]
  },
  {
   "cell_type": "code",
   "execution_count": 3,
   "metadata": {},
   "outputs": [
    {
     "name": "stdout",
     "output_type": "stream",
     "text": [
      "20072 9319 18600 22108\n"
     ]
    },
    {
     "data": {
      "image/png": "[encoded data removed]",
      "text/plain": [
       "<matplotlib.figure.Figure at 0x7f2fef62f588>"
      ]
     },
     "metadata": {},
     "output_type": "display_data"
    },
    {
     "data": {
      "text/plain": [
       "(array([  180.,  1980.,  2010.,  1260.,  1770.,  1650.,   360.,  1290.,\n",
       "         1260.,  1320.,  1800.,  1170.,  1890.,  1920.,   690.,   540.,\n",
       "          360.,   990.,  1080.,   180.,   300.,   270.,   330.,   450.,\n",
       "          240.,  1350.,   540.,   210.,   480.,   240.,   390.,   690.,\n",
       "          210.,   599.,   360.,  1080.,   330.,   180.,  1860.,   270.,\n",
       "          300.,   210.,   210.]),\n",
       " array([  0.        ,   0.97674419,   1.95348837,   2.93023256,\n",
       "          3.90697674,   4.88372093,   5.86046512,   6.8372093 ,\n",
       "          7.81395349,   8.79069767,   9.76744186,  10.74418605,\n",
       "         11.72093023,  12.69767442,  13.6744186 ,  14.65116279,\n",
       "         15.62790698,  16.60465116,  17.58139535,  18.55813953,\n",
       "         19.53488372,  20.51162791,  21.48837209,  22.46511628,\n",
       "         23.44186047,  24.41860465,  25.39534884,  26.37209302,\n",
       "         27.34883721,  28.3255814 ,  29.30232558,  30.27906977,\n",
       "         31.25581395,  32.23255814,  33.20930233,  34.18604651,\n",
       "         35.1627907 ,  36.13953488,  37.11627907,  38.09302326,\n",
       "         39.06976744,  40.04651163,  41.02325581,  42.        ]),\n",
       " <a list of 43 Patch objects>)"
      ]
     },
     "execution_count": 3,
     "metadata": {},
     "output_type": "execute_result"
    },
    {
     "data": {
      "image/png": "[encoded data removed]",
      "text/plain": [
       "<matplotlib.figure.Figure at 0x7f2fdbe66400>"
      ]
     },
     "metadata": {},
     "output_type": "display_data"
    }
   ],
   "source": [
    "### Data exploration visualization code goes here.\n",
    "import matplotlib.pyplot as plt\n",
    "import matplotlib.image as mpimg\n",
    "# Visualizations will be shown in the notebook.\n",
    "%matplotlib inline\n",
    "\n",
    "im1 = np.round(np.random.random_sample()*n_train).astype(int)\n",
    "im2 = np.round(np.random.random_sample()*n_train).astype(int)\n",
    "im3 = np.round(np.random.random_sample()*n_train).astype(int)\n",
    "im4 = np.round(np.random.random_sample()*n_train).astype(int)\n",
    "\n",
    "print(im1, im2, im3, im4)\n",
    "\n",
    "fig, axs = plt.subplots(nrows=2, ncols=2)\n",
    "axs[0, 0].imshow(X_train0[im1,:,:,:])\n",
    "axs[0, 1].imshow(X_train0[im2,:,:,:])\n",
    "axs[1, 0].imshow(X_train0[im3,:,:,:])\n",
    "axs[1, 1].imshow(X_train0[im4,:,:,:])\n",
    "\n",
    "plt.show()\n",
    "\n",
    "plt.figure()\n",
    "plt.hist(train['labels'], n_classes)"
   ]
  },
  {
   "cell_type": "markdown",
   "metadata": {},
   "source": [
    "Labels in the training set are not equally distributed."
   ]
  },
  {
   "cell_type": "markdown",
   "metadata": {},
   "source": [
    "----\n",
    "\n",
    "## Step 2: Design and Test a Model Architecture\n",
    "\n",
    "This project is based on LeNet-5 architecture. LeNet consists of 2 convolutional layers, 1 max pool and 2 fully connected layer.\n",
    "\n",
    "The architecture proposed here adds another fully connected layer and uses a deeper convolutional filter."
   ]
  },
  {
   "cell_type": "markdown",
   "metadata": {},
   "source": [
    "### Pre-process the Data Set"
   ]
  },
  {
   "cell_type": "markdown",
   "metadata": {},
   "source": [
    "Pre-processing is made in two steps:\n",
    "\n",
    "- grayscaling with: Gray = 0.299 Red + 0.587 Green + 0.114 Blue\n",
    "- normalizing pixel intensity\n"
   ]
  },
  {
   "cell_type": "code",
   "execution_count": 4,
   "metadata": {},
   "outputs": [
    {
     "name": "stdout",
     "output_type": "stream",
     "text": [
      "max min  -0.488235294118 0.5\n",
      "Normalized grayscaled images.\n"
     ]
    },
    {
     "data": {
      "image/png": "[encoded data removed]",
      "text/plain": [
       "<matplotlib.figure.Figure at 0x7f2fdbe07828>"
      ]
     },
     "metadata": {},
     "output_type": "display_data"
    },
    {
     "name": "stdout",
     "output_type": "stream",
     "text": [
      "Done preprocessing.\n"
     ]
    }
   ],
   "source": [
    "### Preprocess the data here. \n",
    "from sklearn.utils import shuffle\n",
    "#from skimage import exposure\n",
    "#from skimage.color import rgb2gray\n",
    "from datetime import datetime\n",
    "\n",
    "# training data\n",
    "X_train = np.zeros((n_train, X_train0.shape[1], X_train0.shape[2], 1), np.int)\n",
    "\n",
    "# validation data\n",
    "X_valid = np.zeros((n_validation, X_valid0.shape[1], X_valid0.shape[2], 1), np.int)\n",
    "\n",
    "# grayscale luminosity\n",
    "#lum = np.ndarray((3,), np.float, np.array([0.210, 0.720, 0.070]))\n",
    "lum = np.ndarray((3,), np.float, np.array([0.299, 0.587, 0.114]))\n",
    "\n",
    "y_train = y_train0\n",
    "y_valid = y_valid0\n",
    "\n",
    "for i in range(n_train):\n",
    "    # grayscale with CV2\n",
    "    #X_train[i,:,:,:] = cv2.cvtColor(X_train[i,:,:,:], cv2.COLOR_RGB2GRAY)\n",
    "    # grayscale with luminosity\n",
    "    # 0.21 R + 0.72 G + 0.07 B.\n",
    "    #X_train[i,:,:,0] = (X_train1[i,:,:,0]*0.21 + X_train1[i,:,:,1]*0.72 + X_train1[i,:,:,2]*0.07).astype(int)\n",
    "    # also suggested in CarND online foruns\n",
    "    #X_train[i,:,:,0] = np.dot(X_train1[i,:,:,:], lum).astype(int)\n",
    "    #p2, p98 = np.percentile(X_train1[i,:,:,:], (2, 98))\n",
    "    #X_train1[i,:,:,:] = exposure.rescale_intensity(X_train1[i,:,:,:], in_range=(p2, p98))\n",
    "    #pass\n",
    "    #X_train[i,:,:,0] = np.dot(X_train1[i,:,:,:]\n",
    "    #X_train[i,:,:,0] = rgb2gray(X_train1[i,:,:,:])\n",
    "    \n",
    "    # grayscale\n",
    "    X_train[i,:,:,0] = np.dot(X_train0[i,:,:,:], lum)\n",
    "    \n",
    "\n",
    "for i in range(n_validation):\n",
    "    X_valid[i,:,:,0] = np.dot(X_valid0[i,:,:,:], lum).astype(int)\n",
    "\n",
    "# normalized after grayscale and save computing costs\n",
    "X_train = (X_train/255.0)-0.5\n",
    "X_valid = (X_valid/255.0)-0.5\n",
    "\n",
    "# check data\n",
    "print(\"max min \",np.amin(X_train), np.amax(X_train))\n",
    "\n",
    "fig, axs = plt.subplots(nrows=2, ncols=2)\n",
    "axs[0, 0].imshow(X_train[im1,:,:,0], cmap=plt.cm.gray)\n",
    "axs[0, 1].imshow(X_train[im2,:,:,0], cmap=plt.cm.gray)\n",
    "axs[1, 0].imshow(X_train[im3,:,:,0], cmap=plt.cm.gray)\n",
    "axs[1, 1].imshow(X_train[im4,:,:,0], cmap=plt.cm.gray)\n",
    "\n",
    "print(\"Normalized grayscaled images.\")\n",
    "plt.show()\n",
    "\n",
    "print(\"Done preprocessing.\")"
   ]
  },
  {
   "cell_type": "markdown",
   "metadata": {},
   "source": [
    "### Model Architecture\n",
    "\n",
    "The python function which creates the logitis was coded with a factory pattern, a form of closure. This makes it reusable with different number of output classes."
   ]
  },
  {
   "cell_type": "code",
   "execution_count": 5,
   "metadata": {
    "collapsed": true
   },
   "outputs": [],
   "source": [
    "import tensorflow as tf\n",
    "from tensorflow.contrib.layers import flatten\n",
    "from tensorflow.python.client import device_lib\n",
    "\n",
    "import platform\n",
    "\n",
    "def factory(n_classes, mu = 0, sigma = 0.1):\n",
    "    \n",
    "    def LeNet(x):    \n",
    "\n",
    "        # W=32, F=5, P=0, S=1\n",
    "        # out = 1 + [W-F+2P]/S  => 1 + (32-5+0)/1 = 28\n",
    "        # Input = 32x32x1. Output = 28x28x6.\n",
    "        # number of filters is arbitrary\n",
    "        # https://discussions.udacity.com/t/define-input-depth-output-depth-f/238575/14\n",
    "        # \n",
    "        conv1_W = tf.Variable(tf.truncated_normal(shape=(5, 5, 1, 16), mean = mu, stddev = sigma))\n",
    "        conv1_b = tf.Variable(tf.zeros(16))\n",
    "        conv1   = tf.nn.conv2d(x, conv1_W, strides=[1, 1, 1, 1], padding='VALID') + conv1_b\n",
    "\n",
    "        # Activation.\n",
    "        conv1 = tf.nn.relu(conv1)\n",
    "\n",
    "        # out = 1 + [W-F+2P]/S  => 1+(28-2+0)/2 = 14\n",
    "        # Pooling. Input = 28x28x16, Output = 14x14x16.\n",
    "        conv1 = tf.nn.max_pool(conv1, ksize=[1, 2, 2, 1], strides=[1, 2, 2, 1], padding='VALID')\n",
    "\n",
    "        # out = 1 + [W-F+2P]/S  => 1+(14-5+0)/1 = 10\n",
    "        # Layer 2: Convolutional. Input = 14x14x16, Output = 10x10x32.\n",
    "        conv2_W = tf.Variable(tf.truncated_normal(shape=(5, 5, 16, 32), mean = mu, stddev = sigma))\n",
    "        conv2_b = tf.Variable(tf.zeros(32))\n",
    "        conv2   = tf.nn.conv2d(conv1, conv2_W, strides=[1, 1, 1, 1], padding='VALID') + conv2_b\n",
    "\n",
    "        # Activation.\n",
    "        conv2 = tf.nn.relu(conv2)\n",
    "\n",
    "        # out = 1 + [W-F+2P]/S  => 1+(10-2+0)/2 = 5\n",
    "        # Pooling. Input = 10x10x16, Output = 5x5x32.\n",
    "        conv2 = tf.nn.max_pool(conv2, ksize=[1, 2, 2, 1], strides=[1, 2, 2, 1], padding='VALID')\n",
    "\n",
    "        # Flatten. Input = 5x5x32. Output = 800.\n",
    "        fc0   = flatten(conv2)\n",
    "\n",
    "        # out = 1 + [W-F+2P]/S  => \n",
    "        # Fully Connected. Input = 800. Output = 400.\n",
    "        fc1_W = tf.Variable(tf.truncated_normal(shape=(800, 400), mean = mu, stddev = sigma))\n",
    "        fc1_b = tf.Variable(tf.zeros(400))\n",
    "        fc1   = tf.matmul(fc0, fc1_W) + fc1_b\n",
    "\n",
    "        # Activation.\n",
    "        fc1    = tf.nn.relu(fc1)\n",
    "        \n",
    "        # connected layer\n",
    "        fc2_W = tf.Variable(tf.truncated_normal(shape=(400, 129), mean = mu, stddev = sigma))\n",
    "        fc2_b = tf.Variable(tf.zeros(129))\n",
    "        fc2    = tf.matmul(fc1, fc2_W) + fc2_b\n",
    "        \n",
    "        fc2    = tf.nn.relu(fc2)\n",
    "\n",
    "        # Fully Connected. Input = 129. Output = 86.\n",
    "        fc3_W  = tf.Variable(tf.truncated_normal(shape=(129, 86), mean = mu, stddev = sigma))\n",
    "        fc3_b  = tf.Variable(tf.zeros(86))\n",
    "        fc3    = tf.matmul(fc2, fc3_W) + fc3_b\n",
    "\n",
    "        # Activation.\n",
    "        fc3    = tf.nn.relu(fc3)\n",
    "\n",
    "        # Input = 86 Output = n_classes.\n",
    "        fc4_W  = tf.Variable(tf.truncated_normal(shape=(86, n_classes), mean = mu, stddev = sigma))\n",
    "        fc4_b  = tf.Variable(tf.zeros(n_classes))\n",
    "        \n",
    "        # final\n",
    "        logits = tf.matmul(fc3, fc4_W) + fc4_b\n",
    "\n",
    "        return logits\n",
    "    return LeNet"
   ]
  },
  {
   "cell_type": "markdown",
   "metadata": {},
   "source": [
    "### Train, Validate and Test the Model"
   ]
  },
  {
   "cell_type": "markdown",
   "metadata": {},
   "source": [
    "Input data was already split into training, validation and testing. This separation helps to prevent overfiting.\n",
    "\n",
    "Running the model on AWS enables computations on GPU. For 50 epochs it takes about 3 minutes."
   ]
  },
  {
   "cell_type": "code",
   "execution_count": 6,
   "metadata": {
    "collapsed": true
   },
   "outputs": [],
   "source": [
    "\n",
    "def evaluate(X_data, y_data):\n",
    "    num_examples = len(X_data)\n",
    "    total_accuracy = 0\n",
    "    total_loss = 0\n",
    "    sess = tf.get_default_session()\n",
    "    for offset in range(0, num_examples, BATCH_SIZE):\n",
    "        batch_x, batch_y = X_data[offset:offset+BATCH_SIZE], y_data[offset:offset+BATCH_SIZE]\n",
    "        loss, accuracy = sess.run([loss_operation, accuracy_operation], feed_dict={x: batch_x, y: batch_y})\n",
    "        total_loss += (loss*len(batch_x))\n",
    "        total_accuracy += (accuracy * len(batch_x))\n",
    "    return total_loss/num_examples, total_accuracy / num_examples\n"
   ]
  },
  {
   "cell_type": "code",
   "execution_count": 7,
   "metadata": {},
   "outputs": [
    {
     "name": "stdout",
     "output_type": "stream",
     "text": [
      "System:  \n",
      "uname_result(system='Linux', node='ip-172-31-32-67', release='4.4.0-97-generic', version='#120-Ubuntu SMP Tue Sep 19 17:28:18 UTC 2017', machine='x86_64', processor='x86_64')\n",
      "\n",
      "['/gpu:0']\n",
      "\n"
     ]
    }
   ],
   "source": [
    "### Training pipeline\n",
    "\n",
    "x = tf.placeholder(tf.float32, (None, 32, 32, 1))\n",
    "y = tf.placeholder(tf.int32, (None))\n",
    "one_hot_y = tf.one_hot(y, n_classes)\n",
    "\n",
    "EPOCHS = 50\n",
    "BATCH_SIZE = 128\n",
    "#BATCH_SIZE = 256\n",
    "rate = 0.0005\n",
    "\n",
    "LeNetFn = factory(n_classes)\n",
    "logits = LeNetFn(x)\n",
    "cross_entropy = tf.nn.softmax_cross_entropy_with_logits(labels=one_hot_y, logits=logits)\n",
    "loss_operation = tf.reduce_mean(cross_entropy)\n",
    "optimizer = tf.train.AdamOptimizer(learning_rate = rate)\n",
    "training_operation = optimizer.minimize(loss_operation)\n",
    "\n",
    "correct_prediction = tf.equal(tf.argmax(logits, 1), tf.argmax(one_hot_y, 1))\n",
    "accuracy_operation = tf.reduce_mean(tf.cast(correct_prediction, tf.float32))\n",
    "saver = tf.train.Saver()\n",
    "\n",
    "print(\"System:  \")\n",
    "print(platform.uname())\n",
    "print(\"\")\n",
    "devices = [x.name for x in device_lib.list_local_devices() if x.device_type == 'GPU']\n",
    "print(devices)\n",
    "print(\"\")\n",
    "\n",
    "acc_epochs = np.zeros((EPOCHS,), np.float)\n",
    "loss_fn = np.zeros((EPOCHS,), np.float)"
   ]
  },
  {
   "cell_type": "code",
   "execution_count": 8,
   "metadata": {},
   "outputs": [
    {
     "name": "stdout",
     "output_type": "stream",
     "text": [
      "2017-10-12 14:08:35.909454  - Training...\n",
      "\n",
      "EPOCH 1 ...\n",
      "Validation Accuracy = 0.703\n",
      "\n",
      "EPOCH 2 ...\n",
      "Validation Accuracy = 0.847\n",
      "\n",
      "EPOCH 3 ...\n",
      "Validation Accuracy = 0.867\n",
      "\n",
      "EPOCH 4 ...\n",
      "Validation Accuracy = 0.892\n",
      "\n",
      "EPOCH 5 ...\n",
      "Validation Accuracy = 0.890\n",
      "\n",
      "EPOCH 6 ...\n",
      "Validation Accuracy = 0.904\n",
      "\n",
      "EPOCH 7 ...\n",
      "Validation Accuracy = 0.911\n",
      "\n",
      "EPOCH 8 ...\n",
      "Validation Accuracy = 0.914\n",
      "\n",
      "EPOCH 9 ...\n",
      "Validation Accuracy = 0.903\n",
      "\n",
      "EPOCH 10 ...\n",
      "Validation Accuracy = 0.909\n",
      "\n",
      "EPOCH 11 ...\n",
      "Validation Accuracy = 0.915\n",
      "\n",
      "EPOCH 12 ...\n",
      "Validation Accuracy = 0.902\n",
      "\n",
      "EPOCH 13 ...\n",
      "Validation Accuracy = 0.900\n",
      "\n",
      "EPOCH 14 ...\n",
      "Validation Accuracy = 0.914\n",
      "\n",
      "EPOCH 15 ...\n",
      "Validation Accuracy = 0.906\n",
      "\n",
      "EPOCH 16 ...\n",
      "Validation Accuracy = 0.917\n",
      "\n",
      "EPOCH 17 ...\n",
      "Validation Accuracy = 0.925\n",
      "\n",
      "EPOCH 18 ...\n",
      "Validation Accuracy = 0.908\n",
      "\n",
      "EPOCH 19 ...\n",
      "Validation Accuracy = 0.931\n",
      "\n",
      "EPOCH 20 ...\n",
      "Validation Accuracy = 0.932\n",
      "\n",
      "EPOCH 21 ...\n",
      "Validation Accuracy = 0.927\n",
      "\n",
      "EPOCH 22 ...\n",
      "Validation Accuracy = 0.922\n",
      "\n",
      "EPOCH 23 ...\n",
      "Validation Accuracy = 0.933\n",
      "\n",
      "EPOCH 24 ...\n",
      "Validation Accuracy = 0.929\n",
      "\n",
      "EPOCH 25 ...\n",
      "Validation Accuracy = 0.920\n",
      "\n",
      "EPOCH 26 ...\n",
      "Validation Accuracy = 0.908\n",
      "\n",
      "EPOCH 27 ...\n",
      "Validation Accuracy = 0.925\n",
      "\n",
      "EPOCH 28 ...\n",
      "Validation Accuracy = 0.914\n",
      "\n",
      "EPOCH 29 ...\n",
      "Validation Accuracy = 0.935\n",
      "\n",
      "EPOCH 30 ...\n",
      "Validation Accuracy = 0.939\n",
      "\n",
      "EPOCH 31 ...\n",
      "Validation Accuracy = 0.931\n",
      "\n",
      "EPOCH 32 ...\n",
      "Validation Accuracy = 0.944\n",
      "\n",
      "EPOCH 33 ...\n",
      "Validation Accuracy = 0.944\n",
      "\n",
      "EPOCH 34 ...\n",
      "Validation Accuracy = 0.940\n",
      "\n",
      "EPOCH 35 ...\n",
      "Validation Accuracy = 0.943\n",
      "\n",
      "EPOCH 36 ...\n",
      "Validation Accuracy = 0.942\n",
      "\n",
      "EPOCH 37 ...\n",
      "Validation Accuracy = 0.940\n",
      "\n",
      "EPOCH 38 ...\n",
      "Validation Accuracy = 0.941\n",
      "\n",
      "EPOCH 39 ...\n",
      "Validation Accuracy = 0.941\n",
      "\n",
      "EPOCH 40 ...\n",
      "Validation Accuracy = 0.941\n",
      "\n",
      "EPOCH 41 ...\n",
      "Validation Accuracy = 0.942\n",
      "\n",
      "EPOCH 42 ...\n",
      "Validation Accuracy = 0.940\n",
      "\n",
      "EPOCH 43 ...\n",
      "Validation Accuracy = 0.940\n",
      "\n",
      "EPOCH 44 ...\n",
      "Validation Accuracy = 0.938\n",
      "\n",
      "EPOCH 45 ...\n",
      "Validation Accuracy = 0.938\n",
      "\n",
      "EPOCH 46 ...\n",
      "Validation Accuracy = 0.894\n",
      "\n",
      "EPOCH 47 ...\n",
      "Validation Accuracy = 0.918\n",
      "\n",
      "EPOCH 48 ...\n",
      "Validation Accuracy = 0.934\n",
      "\n",
      "EPOCH 49 ...\n",
      "Validation Accuracy = 0.941\n",
      "\n",
      "EPOCH 50 ...\n",
      "Validation Accuracy = 0.937\n",
      "\n",
      "2017-10-12 14:11:29.978169  - Finished training\n",
      "Model saved\n"
     ]
    }
   ],
   "source": [
    "\n",
    "\n",
    "with tf.Session() as sess:\n",
    "    sess.run(tf.global_variables_initializer())\n",
    "    num_examples = len(X_train)\n",
    "    \n",
    "    print(datetime.now().isoformat(' '), \" - Training...\")\n",
    "    print()\n",
    "    for i in range(EPOCHS):\n",
    "        X_train, y_train = shuffle(X_train, y_train)\n",
    "        for offset in range(0, num_examples, BATCH_SIZE):\n",
    "            end = offset + BATCH_SIZE\n",
    "            batch_x, batch_y = X_train[offset:end], y_train[offset:end]\n",
    "            sess.run(training_operation, feed_dict={x: batch_x, y: batch_y})\n",
    "            \n",
    "        loss, validation_accuracy = evaluate(X_valid, y_valid)\n",
    "        print(\"EPOCH {} ...\".format(i+1))\n",
    "        print(\"Validation Accuracy = {:.3f}\".format(validation_accuracy))\n",
    "        print()\n",
    "        acc_epochs[i] = validation_accuracy\n",
    "        loss_fn[i] = loss\n",
    "    \n",
    "    print(datetime.now().isoformat(' '), \" - Finished training\")\n",
    "    saver.save(sess, './lenet/lenet')\n",
    "    print(\"Model saved\")\n"
   ]
  },
  {
   "cell_type": "code",
   "execution_count": 9,
   "metadata": {},
   "outputs": [
    {
     "name": "stdout",
     "output_type": "stream",
     "text": [
      "Average accuracy:  0.917446711906  highest acc:  0.943764172092\n"
     ]
    },
    {
     "data": {
      "image/png": "[encoded data removed]",
      "text/plain": [
       "<matplotlib.figure.Figure at 0x7f2f795d36d8>"
      ]
     },
     "metadata": {},
     "output_type": "display_data"
    },
    {
     "data": {
      "text/plain": [
       "<matplotlib.figure.Figure at 0x7f2fdbd10470>"
      ]
     },
     "metadata": {},
     "output_type": "display_data"
    },
    {
     "data": {
      "image/png": "[encoded data removed]",
      "text/plain": [
       "<matplotlib.figure.Figure at 0x7f2fdbd10a58>"
      ]
     },
     "metadata": {},
     "output_type": "display_data"
    },
    {
     "data": {
      "text/plain": [
       "<matplotlib.figure.Figure at 0x7f2fc235ef98>"
      ]
     },
     "metadata": {},
     "output_type": "display_data"
    }
   ],
   "source": [
    "model_r_max = np.max(acc_epochs)\n",
    "print(\"Average accuracy: \", np.mean(acc_epochs), \" highest acc: \", model_r_max)\n",
    "plt.figure()\n",
    "plt.plot(acc_epochs)\n",
    "plt.xlabel(\"epochs\")\n",
    "plt.ylabel(\"accuracy\")\n",
    "plt.title(\"Model Accuracy over Epochs\")\n",
    "plt.show()\n",
    "plt.savefig(\"./output/evolution_1FD32_L5_E\"+str(EPOCHS)+\"_B\"+str(BATCH_SIZE)+\"_R\"+str(rate)+\"_A94.png\")\n",
    "\n",
    "plt.figure()\n",
    "plt.plot(loss_fn)\n",
    "plt.xlabel(\"epochs\")\n",
    "plt.ylabel(\"loss function\")\n",
    "plt.show()\n",
    "plt.savefig(\"./output/loss_1FD32_L5_E\"+str(EPOCHS)+\"_B\"+str(BATCH_SIZE)+\"_R\"+str(rate)+\"_A94.png\")\n",
    "\n"
   ]
  },
  {
   "cell_type": "markdown",
   "metadata": {},
   "source": [
    "# Evaluate\n",
    "\n",
    "After training and validating, its time to test the model with \"new\" data. This data set was provided in a separated file, so the model was not exposed to it yet."
   ]
  },
  {
   "cell_type": "code",
   "execution_count": 10,
   "metadata": {},
   "outputs": [
    {
     "name": "stdout",
     "output_type": "stream",
     "text": [
      "INFO:tensorflow:Restoring parameters from ./lenet/lenet\n",
      "Test Accuracy = 0.935\n"
     ]
    }
   ],
   "source": [
    "n_test = X_test0.shape[0]\n",
    "X_test = np.zeros((n_test, X_test0.shape[1], X_test0.shape[2], 1), np.int)\n",
    "\n",
    "for i in range(n_test):\n",
    "    X_test[i,:,:,0] = np.dot(X_test0[i,:,:,:], lum).astype(int)\n",
    "\n",
    "# normalized after grayscale and save computing costs\n",
    "X_test = (X_test/255.0)-0.5\n",
    "\n",
    "with tf.Session() as sess:\n",
    "    saver.restore(sess, tf.train.latest_checkpoint('./lenet'))\n",
    "\n",
    "    _, test_accuracy = evaluate(X_test, y_test0)\n",
    "    print(\"Test Accuracy = {:.3f}\".format(test_accuracy))"
   ]
  },
  {
   "cell_type": "markdown",
   "metadata": {},
   "source": [
    "---\n",
    "\n",
    "## Step 3: Test a Model on New Images\n",
    "\n",
    "Ater testing the model, let's try its accuracy on 5 new images found on internet."
   ]
  },
  {
   "cell_type": "markdown",
   "metadata": {},
   "source": [
    "### Load and Output the Images"
   ]
  },
  {
   "cell_type": "code",
   "execution_count": 11,
   "metadata": {},
   "outputs": [
    {
     "data": {
      "image/png": "[encoded data removed]",
      "text/plain": [
       "<matplotlib.figure.Figure at 0x7f2fc232b1d0>"
      ]
     },
     "metadata": {},
     "output_type": "display_data"
    },
    {
     "data": {
      "image/png": "[encoded data removed]",
      "text/plain": [
       "<matplotlib.figure.Figure at 0x7f2fdbdca6a0>"
      ]
     },
     "metadata": {},
     "output_type": "display_data"
    }
   ],
   "source": [
    "import matplotlib.image as mpimg\n",
    "\n",
    "xtest20 = np.ndarray((5, 32, 32, 3), np.float)\n",
    "xtest21 = np.ndarray((5, 32, 32, 1), np.float)\n",
    "#xtest20[0, :, :, :] = mpimg.imread('./new-data/ni_01_14.png')\n",
    "#xtest20[1, :, :, :] = mpimg.imread('./new-data/ni_02_15.png')\n",
    "#xtest20[2, :, :, :] = mpimg.imread('./new-data/ni_03_27.png')\n",
    "#xtest20[3, :, :, :] = mpimg.imread('./new-data/ni_04_30.png')\n",
    "#xtest20[4, :, :, :] = mpimg.imread('./new-data/ni_05_40.png')\n",
    "\n",
    "xtest20[0, :, :, :] = mpimg.imread('./new-data/ni_01_14.jpg')\n",
    "xtest20[1, :, :, :] = mpimg.imread('./new-data/ni_02_15.jpg')\n",
    "xtest20[2, :, :, :] = mpimg.imread('./new-data/ni_03_27.jpg')\n",
    "xtest20[3, :, :, :] = mpimg.imread('./new-data/ni_04_30.jpg')\n",
    "xtest20[4, :, :, :] = mpimg.imread('./new-data/ni_05_40.jpg')\n",
    "\n",
    "ylabels = np.ndarray((5,), np.int, np.array([14,15,27,30,40]))\n",
    "lum = np.ndarray((3,), np.float, np.array([0.299, 0.587, 0.114]))\n",
    "for i in range(5):\n",
    "    xtest21[i,:,:,0] = np.dot(xtest20[i,:,:,:], lum)\n",
    "    \n",
    "# normalized after grayscale and save computing costs\n",
    "xtest21 = (xtest21/255.0)-0.5\n",
    "\n",
    "fig, axs = plt.subplots(nrows=3, ncols=2)\n",
    "axs[0, 0].imshow(xtest20[0,:,:,:])\n",
    "axs[0, 1].imshow(xtest20[1,:,:,:])\n",
    "axs[1, 0].imshow(xtest20[2,:,:,:])\n",
    "axs[1, 1].imshow(xtest20[3,:,:,:])\n",
    "axs[2, 0].imshow(xtest20[4,:,:,:])\n",
    "\n",
    "plt.show()\n",
    "\n",
    "fig, axs = plt.subplots(nrows=3, ncols=2)\n",
    "axs[0, 0].imshow(xtest21[0,:,:,0], cmap=plt.cm.gray)\n",
    "axs[0, 1].imshow(xtest21[1,:,:,0], cmap=plt.cm.gray)\n",
    "axs[1, 0].imshow(xtest21[2,:,:,0], cmap=plt.cm.gray)\n",
    "axs[1, 1].imshow(xtest21[3,:,:,0], cmap=plt.cm.gray)\n",
    "axs[2, 0].imshow(xtest21[4,:,:,0], cmap=plt.cm.gray)\n",
    "\n",
    "plt.show()\n",
    "\n"
   ]
  },
  {
   "cell_type": "markdown",
   "metadata": {},
   "source": [
    "### Predict the Sign Type for Each Image"
   ]
  },
  {
   "cell_type": "code",
   "execution_count": 16,
   "metadata": {},
   "outputs": [
    {
     "name": "stdout",
     "output_type": "stream",
     "text": [
      "INFO:tensorflow:Restoring parameters from ./lenet/lenet\n",
      "Logits\n",
      "[[ -23.82995796   12.22348881    5.24700212   -5.01921177  -12.05156803\n",
      "   -16.28949165  -26.54062653  -19.41469574  -15.23647499  -28.70347595\n",
      "   -30.18368912   -9.78508854    6.68434906    8.00753307   14.6848774\n",
      "   -13.73761368  -65.58116913  -11.43909836  -20.74489212  -43.69757843\n",
      "   -25.68615532  -35.35309982  -25.01387787  -42.83092499  -18.18736267\n",
      "    -9.23015785   -6.61341381  -49.62615204  -24.12494278  -22.1235199\n",
      "   -27.21355057  -33.24899292  -24.66412926    4.25927591  -11.66742802\n",
      "    -2.87310266  -10.11999893   -0.73470086  -10.88895035   -5.29757071\n",
      "   -11.99493122  -33.1705246   -40.28797531]\n",
      " [ -33.35050201   -4.46615314   -8.78530598    7.71556234   -6.94957018\n",
      "    -7.67655945  -47.17803955  -16.71727753  -16.28227043    0.77072573\n",
      "   -31.82898712  -34.33365631  -12.14495373   12.36383152    4.2540307\n",
      "     7.12515688  -46.0978775   -14.60758114  -17.73284531  -24.22329712\n",
      "   -26.09648514  -52.14083862    1.0644542   -42.82314682  -19.95175362\n",
      "   -11.42463303   -7.85647058  -51.46764374   -9.00272751   -8.336936\n",
      "   -54.39671707  -37.38504791  -24.6989212     1.53812647  -19.00477219\n",
      "     5.35240459   -7.40578794  -17.2496357   -18.35800743   -6.72959661\n",
      "   -23.40646362  -36.33037186  -55.51404572]\n",
      " [  -8.19537067    9.81828594  -25.48621559  -23.54010582   -4.85568237\n",
      "    -6.94281721  -17.68091583  -48.93915939  -34.76464844  -52.7652092\n",
      "   -50.41648865  -14.70374012    8.66214371  -27.15566635    6.44721794\n",
      "    -9.76159573  -59.79570007  -23.43365479   10.43781567  -56.43671036\n",
      "   -24.168396    -43.78590775  -52.15834808  -48.17084885  -38.0393219\n",
      "   -11.76746464  -14.47885036  -38.14334488  -47.70761871  -25.05717087\n",
      "   -35.11039734  -50.30174255   -8.42114544   -5.52239132  -41.71050262\n",
      "   -23.62919235  -21.55352402  -14.43875504    5.75120687  -34.40727234\n",
      "    22.58751869  -29.49789238  -41.74700546]\n",
      " [ -71.62384796  -43.7921257   -51.80265045  -22.00750351 -103.65652466\n",
      "   -17.76538467  -65.30267334  -43.8684082   -93.46403503  -34.29449844\n",
      "    -9.96207142    7.04454041  -23.77471352  -10.41671562  -49.05177307\n",
      "   -55.34400558  -59.59599686  -34.96619797  -25.52444267  -12.44121361\n",
      "    -9.41991901   -9.95913887    6.64266682    2.65481162  -15.48034191\n",
      "    25.82727432  -19.84401321  -48.59305573  -23.88368797   -1.99540162\n",
      "    16.85153961  -22.45292664  -52.59412003  -24.38441467   15.53477764\n",
      "   -14.75545406  -22.60277939  -34.56523895  -15.92673492  -75.49272919\n",
      "   -36.34951782  -34.59121704  -60.93301773]\n",
      " [ -34.50154877  -19.28138351  -18.63120842   -9.67574596  -48.08160782\n",
      "   -22.70354652  -40.78736115  -21.65718269  -38.04601288   10.55099487\n",
      "   -28.67878342  -15.69770241   16.99584007    4.14944553   -1.45095742\n",
      "    -3.30947709  -39.31541061  -15.2105341   -28.85735512  -28.47715378\n",
      "   -31.38887787  -49.80951309  -12.72123528  -19.36704826  -22.3787117\n",
      "   -23.6171627   -13.96886444  -53.98962784   -3.78920889   -8.17267036\n",
      "   -21.86774254  -58.35541534  -13.96012974   -8.60382366    8.48984814\n",
      "    14.00068855   -8.69783878  -20.01979637   -0.48454282  -34.44913483\n",
      "    -7.92018604  -15.24727726  -36.21956635]]\n",
      "(5, 43)\n",
      "\n",
      "\n",
      "softmax\n",
      "[[  1.72576594e-17   7.84864798e-02   7.32731714e-05   2.54908761e-09\n",
      "    2.25045958e-12   3.24911234e-14   1.14750424e-18   1.42727201e-15\n",
      "    9.31288195e-14   1.31959516e-19   3.00324433e-20   2.17065480e-11\n",
      "    3.08444491e-04   1.15832000e-03   9.19946015e-01   4.16899425e-13\n",
      "    1.27251267e-35   4.15206194e-12   3.77405403e-16   4.06054904e-26\n",
      "    2.69678064e-18   1.70822124e-22   5.28217563e-18   9.65978667e-26\n",
      "    4.87001974e-15   3.78089365e-11   5.17645427e-10   1.08103062e-28\n",
      "    1.28490440e-17   9.50778403e-17   5.85471096e-19   1.40070859e-21\n",
      "    7.49386427e-18   2.72885809e-05   3.30446434e-12   2.17986038e-08\n",
      "    1.55289271e-11   1.84979854e-07   7.19763875e-12   1.92972394e-09\n",
      "    2.38159709e-12   1.51504703e-21   1.22844280e-24]\n",
      " [  1.37901412e-20   4.82927121e-08   6.42831843e-10   9.42613091e-03\n",
      "    4.03039024e-09   1.94814076e-09   1.36252795e-26   2.30826832e-13\n",
      "    3.56620793e-13   9.08300080e-06   6.31472135e-20   5.15929350e-21\n",
      "    2.23367956e-11   9.84126866e-01   2.95807724e-04   5.22304280e-03\n",
      "    4.01285870e-26   1.90333578e-12   8.36047201e-14   1.26900517e-16\n",
      "    1.94961210e-17   9.52860220e-29   1.21841103e-05   1.06084348e-24\n",
      "    9.09013482e-15   4.59042179e-11   1.62736613e-09   1.86807368e-28\n",
      "    5.17217047e-10   1.00651887e-09   9.98417054e-30   2.43998793e-22\n",
      "    7.88683097e-17   1.95662360e-05   2.34336544e-14   8.87211296e-04\n",
      "    2.55396326e-09   1.35545546e-13   4.47430416e-14   5.02204722e-09\n",
      "    2.87216723e-16   7.00531506e-22   3.26635951e-30]\n",
      " [  4.27717079e-14   2.84700809e-06   1.32384905e-21   9.26879383e-21\n",
      "    1.20660535e-12   1.49669692e-13   3.24816373e-18   8.63681426e-32\n",
      "    1.23670784e-25   1.88244069e-33   1.97132989e-32   6.37687166e-17\n",
      "    8.95947323e-07   2.49347143e-22   9.78030670e-08   8.93211913e-15\n",
      "    1.66502023e-36   1.03099161e-20   5.28989449e-06   4.78860009e-35\n",
      "    4.94494104e-21   1.49410922e-29   3.45365861e-33   1.86220134e-31\n",
      "    4.67836926e-27   1.20175499e-15   7.98503584e-17   4.21615185e-27\n",
      "    2.95941964e-31   2.03315017e-21   8.75206045e-26   2.21102112e-32\n",
      "    3.41275199e-14   6.19466175e-13   1.19047688e-28   8.47876526e-21\n",
      "    6.75746654e-20   8.31168020e-17   4.87617058e-08   1.76796462e-25\n",
      "    9.99990821e-01   2.39656606e-23   1.14780032e-28]\n",
      " [  0.00000000e+00   5.81579498e-31   1.93054881e-34   1.68093248e-21\n",
      "    0.00000000e+00   1.16917378e-19   0.00000000e+00   5.38867111e-31\n",
      "    0.00000000e+00   7.75132954e-27   2.86296104e-16   6.96133684e-09\n",
      "    2.87117652e-22   1.81704780e-16   3.02256001e-33   5.59359998e-36\n",
      "    7.96296989e-38   3.95968654e-27   4.99072789e-23   2.39959554e-17\n",
      "    4.92344624e-16   2.87136043e-16   4.65758454e-09   8.63490876e-11\n",
      "    1.14884158e-18   9.99839664e-01   1.46265598e-20   4.78178502e-33\n",
      "    2.57474683e-22   8.25459655e-13   1.26420739e-04   1.07672673e-21\n",
      "    8.74886179e-35   1.56052553e-22   3.38809732e-05   2.37178304e-18\n",
      "    9.26883745e-22   5.91282564e-27   7.35181481e-19   0.00000000e+00\n",
      "    9.92870620e-28   5.76119987e-27   2.09129012e-38]\n",
      " [  4.10227550e-23   1.67132253e-16   3.20204130e-16   2.48161994e-12\n",
      "    5.19136824e-29   5.45547948e-18   7.64066637e-26   1.55332723e-17\n",
      "    1.18490537e-24   1.51041662e-03   1.38618555e-20   6.01772524e-15\n",
      "    9.50730622e-01   2.50575840e-06   9.26221322e-09   1.44401058e-09\n",
      "    3.32960636e-25   9.79504665e-15   1.15949218e-20   1.69585225e-20\n",
      "    9.22232975e-22   9.22278498e-30   1.18058056e-13   1.53410730e-16\n",
      "    7.54931763e-18   2.18803603e-18   3.39044859e-14   1.41078647e-31\n",
      "    8.93768892e-10   1.11560969e-11   1.25839789e-17   1.79234750e-33\n",
      "    3.42018961e-14   7.24878447e-12   1.92287975e-04   4.75641415e-02\n",
      "    6.59833082e-12   7.98676300e-17   2.43457769e-08   4.32302686e-23\n",
      "    1.43603298e-11   9.44167636e-15   7.36036412e-24]]\n",
      "(5, 43)\n",
      "0 14 0.919946\n",
      "1 15 0.00522304\n",
      "2 27 4.21615e-27\n",
      "3 30 0.000126421\n",
      "4 40 1.43603e-11\n"
     ]
    }
   ],
   "source": [
    "\n",
    "with tf.Session() as sess:\n",
    "    saver.restore(sess, tf.train.latest_checkpoint('./lenet'))\n",
    "    r1 = sess.run(logits, feed_dict={x: xtest21})\n",
    "    print(\"Logits\")\n",
    "    print(r1)\n",
    "    print(r1.shape)\n",
    "    \n",
    "    print(\"\")\n",
    "    print(\"\")\n",
    "    print(\"softmax\")\n",
    "    r2 = sess.run(tf.nn.softmax(logits), feed_dict={x: xtest21})\n",
    "    print(r2)\n",
    "    print(r2.shape)\n",
    "    for i in range(5):\n",
    "        print(i, ylabels[i], r2[i, ylabels[i]])\n",
    "    "
   ]
  },
  {
   "cell_type": "markdown",
   "metadata": {},
   "source": [
    "### Analyze Performance"
   ]
  },
  {
   "cell_type": "code",
   "execution_count": 17,
   "metadata": {},
   "outputs": [
    {
     "name": "stdout",
     "output_type": "stream",
     "text": [
      "INFO:tensorflow:Restoring parameters from ./lenet/lenet\n",
      "Test 2 Accuracy = 0.200\n"
     ]
    }
   ],
   "source": [
    "with tf.Session() as sess:\n",
    "    saver.restore(sess, tf.train.latest_checkpoint('./lenet'))\n",
    "    _, test_2_accuracy = evaluate(xtest21, ylabels)\n",
    "    print(\"Test 2 Accuracy = {:.3f}\".format(test_2_accuracy))\n",
    "    "
   ]
  },
  {
   "cell_type": "markdown",
   "metadata": {},
   "source": [
    "### Output Top 5 Softmax Probabilities For Each Image Found on the Web"
   ]
  },
  {
   "cell_type": "markdown",
   "metadata": {},
   "source": [
    "For each of these 5 new images, show the 5 highest probabilities."
   ]
  },
  {
   "cell_type": "code",
   "execution_count": 18,
   "metadata": {},
   "outputs": [
    {
     "name": "stdout",
     "output_type": "stream",
     "text": [
      "INFO:tensorflow:Restoring parameters from ./lenet/lenet\n",
      "TopKV2(values=array([[ 14.6848774 ,  12.22348881,   8.00753307,   6.68434906,\n",
      "          5.24700212],\n",
      "       [ 12.36383152,   7.71556234,   7.12515688,   5.35240459,   4.2540307 ],\n",
      "       [ 22.58751869,  10.43781567,   9.81828594,   8.66214371,\n",
      "          6.44721794],\n",
      "       [ 25.82727432,  16.85153961,  15.53477764,   7.04454041,\n",
      "          6.64266682],\n",
      "       [ 16.99584007,  14.00068855,  10.55099487,   8.48984814,\n",
      "          4.14944553]], dtype=float32), indices=array([[14,  1, 13, 12,  2],\n",
      "       [13,  3, 15, 35, 14],\n",
      "       [40, 18,  1, 12, 14],\n",
      "       [25, 30, 34, 11, 22],\n",
      "       [12, 35,  9, 34, 13]], dtype=int32))\n",
      "TopKV2(values=array([[  9.19946015e-01,   7.84864798e-02,   1.15832000e-03,\n",
      "          3.08444491e-04,   7.32731714e-05],\n",
      "       [  9.84126866e-01,   9.42613091e-03,   5.22304280e-03,\n",
      "          8.87211296e-04,   2.95807724e-04],\n",
      "       [  9.99990821e-01,   5.28989449e-06,   2.84700809e-06,\n",
      "          8.95947323e-07,   9.78030670e-08],\n",
      "       [  9.99839664e-01,   1.26420739e-04,   3.38809732e-05,\n",
      "          6.96133684e-09,   4.65758454e-09],\n",
      "       [  9.50730622e-01,   4.75641415e-02,   1.51041662e-03,\n",
      "          1.92287975e-04,   2.50575840e-06]], dtype=float32), indices=array([[14,  1, 13, 12,  2],\n",
      "       [13,  3, 15, 35, 14],\n",
      "       [40, 18,  1, 12, 14],\n",
      "       [25, 30, 34, 11, 22],\n",
      "       [12, 35,  9, 34, 13]], dtype=int32))\n"
     ]
    }
   ],
   "source": [
    "with tf.Session() as sess:\n",
    "    saver.restore(sess, tf.train.latest_checkpoint('./lenet'))\n",
    "\n",
    "    prob1 = sess.run(tf.nn.top_k(logits, k=5), feed_dict={x: xtest21})\n",
    "    print(prob1)\n",
    "    \n",
    "    prob2 = sess.run(tf.nn.top_k(tf.nn.softmax(logits), k=5), feed_dict={x: xtest21})\n",
    "    print(prob2)"
   ]
  },
  {
   "cell_type": "markdown",
   "metadata": {
    "collapsed": true
   },
   "source": [
    "Model was able to predict only 1 out of 5 images, the first image with 91%. This image contains the \"stop\" sign, which is the 14th label."
   ]
  },
  {
   "cell_type": "code",
   "execution_count": null,
   "metadata": {
    "collapsed": true
   },
   "outputs": [],
   "source": []
  }
 ],
 "metadata": {
  "anaconda-cloud": {},
  "kernelspec": {
   "display_name": "Python 3",
   "language": "python",
   "name": "python3"
  },
  "language_info": {
   "codemirror_mode": {
    "name": "ipython",
    "version": 3
   },
   "file_extension": ".py",
   "mimetype": "text/x-python",
   "name": "python",
   "nbconvert_exporter": "python",
   "pygments_lexer": "ipython3",
   "version": "3.6.1"
  }
 },
 "nbformat": 4,
 "nbformat_minor": 1
}
