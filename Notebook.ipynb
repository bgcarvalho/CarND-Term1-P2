{
 "cells": [
  {
   "cell_type": "markdown",
   "metadata": {},
   "source": [
    "# Self-Driving Car Engineer Nanodegree\n",
    "\n",
    "## Deep Learning\n",
    "\n",
    "## Project: Build a Traffic Sign Recognition Classifier\n",
    "\n",
    "This Jupyter notebook contains the code pipeline for a traffic sign classifier tuned for project 2 of Term 1.\n",
    "Python libraries used in this project:\n",
    "\n",
    "- `pickle`: save and load binary python objects\n",
    "- `numpy`: algebra calculations\n",
    "- `matplotlib`: plots and image loading\n",
    "- `tensorflow`: machine learning framework\n",
    "- `sklearn`: machine learning framework\n",
    "\n",
    "Packages `scikit-image` and `cv2` were tested, but not used in final form."
   ]
  },
  {
   "cell_type": "markdown",
   "metadata": {},
   "source": [
    "---\n",
    "## Step 0: Load The Data\n",
    "\n",
    "Input data was provided in binary files."
   ]
  },
  {
   "cell_type": "code",
   "execution_count": 1,
   "metadata": {
    "collapsed": true
   },
   "outputs": [],
   "source": [
    "# Load pickled data\n",
    "import pickle\n",
    "import numpy as np\n",
    "\n",
    "training_file = './traffic-signs-data/train.p'\n",
    "validation_file= './traffic-signs-data/valid.p'\n",
    "testing_file = './traffic-signs-data/test.p'\n",
    "\n",
    "with open(training_file, mode='rb') as f:\n",
    "    train = pickle.load(f)\n",
    "with open(validation_file, mode='rb') as f:\n",
    "    valid = pickle.load(f)\n",
    "with open(testing_file, mode='rb') as f:\n",
    "    test = pickle.load(f)\n",
    "    \n",
    "X_train0, y_train0 = train['features'], train['labels']\n",
    "X_valid0, y_valid0 = valid['features'], valid['labels']\n",
    "X_test0, y_test0 = test['features'], test['labels']"
   ]
  },
  {
   "cell_type": "markdown",
   "metadata": {},
   "source": [
    "---\n",
    "\n",
    "## Step 1: Dataset Summary & Exploration\n",
    "\n",
    "The pickled data is a dictionary with 4 key/value pairs:\n",
    "\n",
    "- `'features'` is a 4D array containing raw pixel data of the traffic sign images, (num examples, width, height, channels).\n",
    "- `'labels'` is a 1D array containing the label/class id of the traffic sign. The file `signnames.csv` contains id -> name mappings for each id.\n",
    "\n"
   ]
  },
  {
   "cell_type": "markdown",
   "metadata": {},
   "source": [
    "### Basic Summary of the Data Set Using Python and Numpy"
   ]
  },
  {
   "cell_type": "code",
   "execution_count": 2,
   "metadata": {},
   "outputs": [
    {
     "name": "stdout",
     "output_type": "stream",
     "text": [
      "Number of training examples = 34799\n",
      "Number of validation examples = 4410\n",
      "Number of testing examples = 12630\n",
      "Image data shape = (32, 32, 3)\n",
      "Number of classes = 43\n",
      "labels shape:  (34799,)\n",
      "[41 41 41 41]\n"
     ]
    }
   ],
   "source": [
    "\n",
    "# Number of training examples\n",
    "n_train = X_train0.shape[0]\n",
    "\n",
    "# Number of validation examples\n",
    "n_validation = X_valid0.shape[0]\n",
    "\n",
    "# Number of testing examples.\n",
    "n_test = X_test0.shape[0]\n",
    "\n",
    "# What's the shape of an traffic sign image?\n",
    "image_shape = X_train0.shape[1], X_train0.shape[2], X_train0.shape[3]\n",
    "\n",
    "# How many unique classes/labels there are in the dataset.\n",
    "n_classes = np.max(np.unique(y_train0).shape)\n",
    "\n",
    "print(\"Number of training examples =\", n_train)\n",
    "print(\"Number of validation examples =\", n_validation)\n",
    "print(\"Number of testing examples =\", n_test)\n",
    "print(\"Image data shape =\", image_shape)\n",
    "print(\"Number of classes =\", n_classes)\n",
    "print(\"labels shape: \", y_train0.shape)\n",
    "print(y_train0[0:4])"
   ]
  },
  {
   "cell_type": "markdown",
   "metadata": {},
   "source": [
    "### Visualization of the dataset\n",
    "\n",
    "Next, it is presented 4 random images from the training dataset and a histogram of labels (output)."
   ]
  },
  {
   "cell_type": "code",
   "execution_count": 3,
   "metadata": {},
   "outputs": [
    {
     "name": "stdout",
     "output_type": "stream",
     "text": [
      "19370 13165 4895 26662\n"
     ]
    },
    {
     "data": {
      "image/png": "[encoded data removed]",
      "text/plain": [
       "<matplotlib.figure.Figure at 0x7fbf286f6828>"
      ]
     },
     "metadata": {},
     "output_type": "display_data"
    },
    {
     "data": {
      "text/plain": [
       "(array([  180.,  1980.,  2010.,  1260.,  1770.,  1650.,   360.,  1290.,\n",
       "         1260.,  1320.,  1800.,  1170.,  1890.,  1920.,   690.,   540.,\n",
       "          360.,   990.,  1080.,   180.,   300.,   270.,   330.,   450.,\n",
       "          240.,  1350.,   540.,   210.,   480.,   240.,   390.,   690.,\n",
       "          210.,   599.,   360.,  1080.,   330.,   180.,  1860.,   270.,\n",
       "          300.,   210.,   210.]),\n",
       " array([  0.        ,   0.97674419,   1.95348837,   2.93023256,\n",
       "          3.90697674,   4.88372093,   5.86046512,   6.8372093 ,\n",
       "          7.81395349,   8.79069767,   9.76744186,  10.74418605,\n",
       "         11.72093023,  12.69767442,  13.6744186 ,  14.65116279,\n",
       "         15.62790698,  16.60465116,  17.58139535,  18.55813953,\n",
       "         19.53488372,  20.51162791,  21.48837209,  22.46511628,\n",
       "         23.44186047,  24.41860465,  25.39534884,  26.37209302,\n",
       "         27.34883721,  28.3255814 ,  29.30232558,  30.27906977,\n",
       "         31.25581395,  32.23255814,  33.20930233,  34.18604651,\n",
       "         35.1627907 ,  36.13953488,  37.11627907,  38.09302326,\n",
       "         39.06976744,  40.04651163,  41.02325581,  42.        ]),\n",
       " <a list of 43 Patch objects>)"
      ]
     },
     "execution_count": 3,
     "metadata": {},
     "output_type": "execute_result"
    },
    {
     "data": {
      "image/png": "[encoded data removed]",
      "text/plain": [
       "<matplotlib.figure.Figure at 0x7fbf21f5b550>"
      ]
     },
     "metadata": {},
     "output_type": "display_data"
    }
   ],
   "source": [
    "### Data exploration visualization code goes here.\n",
    "import matplotlib.pyplot as plt\n",
    "import matplotlib.image as mpimg\n",
    "# Visualizations will be shown in the notebook.\n",
    "%matplotlib inline\n",
    "\n",
    "im1 = np.round(np.random.random_sample()*n_train).astype(int)\n",
    "im2 = np.round(np.random.random_sample()*n_train).astype(int)\n",
    "im3 = np.round(np.random.random_sample()*n_train).astype(int)\n",
    "im4 = np.round(np.random.random_sample()*n_train).astype(int)\n",
    "\n",
    "print(im1, im2, im3, im4)\n",
    "\n",
    "fig, axs = plt.subplots(nrows=2, ncols=2)\n",
    "axs[0, 0].imshow(X_train0[im1,:,:,:])\n",
    "axs[0, 1].imshow(X_train0[im2,:,:,:])\n",
    "axs[1, 0].imshow(X_train0[im3,:,:,:])\n",
    "axs[1, 1].imshow(X_train0[im4,:,:,:])\n",
    "\n",
    "plt.show()\n",
    "\n",
    "plt.figure()\n",
    "plt.hist(train['labels'], n_classes)"
   ]
  },
  {
   "cell_type": "markdown",
   "metadata": {},
   "source": [
    "Labels in the training set are not equally distributed."
   ]
  },
  {
   "cell_type": "markdown",
   "metadata": {},
   "source": [
    "----\n",
    "\n",
    "## Step 2: Design and Test a Model Architecture\n",
    "\n",
    "This project is based on LeNet-5 architecture. LeNet consists of 2 convolutional layers, 1 max pool and 2 fully connected layer.\n",
    "\n",
    "The architecture proposed here adds another fully connected layer and uses a deeper convolutional filter."
   ]
  },
  {
   "cell_type": "markdown",
   "metadata": {},
   "source": [
    "### Pre-process the Data Set"
   ]
  },
  {
   "cell_type": "markdown",
   "metadata": {},
   "source": [
    "Pre-processing is made in two steps:\n",
    "\n",
    "- grayscaling with: Gray = 0.299 Red + 0.587 Green + 0.114 Blue\n",
    "- normalizing pixel intensity\n"
   ]
  },
  {
   "cell_type": "code",
   "execution_count": 4,
   "metadata": {},
   "outputs": [
    {
     "name": "stdout",
     "output_type": "stream",
     "text": [
      "max min  -0.488235294118 0.5\n",
      "Normalized grayscaled images.\n"
     ]
    },
    {
     "data": {
      "image/png": "[encoded data removed]",
      "text/plain": [
       "<matplotlib.figure.Figure at 0x7fbf21e3ce80>"
      ]
     },
     "metadata": {},
     "output_type": "display_data"
    },
    {
     "name": "stdout",
     "output_type": "stream",
     "text": [
      "Done preprocessing.\n"
     ]
    }
   ],
   "source": [
    "### Preprocess the data here. \n",
    "from sklearn.utils import shuffle\n",
    "#from skimage import exposure\n",
    "#from skimage.color import rgb2gray\n",
    "from datetime import datetime\n",
    "\n",
    "# training data\n",
    "X_train = np.zeros((n_train, X_train0.shape[1], X_train0.shape[2], 1), np.int)\n",
    "\n",
    "# validation data\n",
    "X_valid = np.zeros((n_validation, X_valid0.shape[1], X_valid0.shape[2], 1), np.int)\n",
    "\n",
    "# grayscale luminosity\n",
    "#lum = np.ndarray((3,), np.float, np.array([0.210, 0.720, 0.070]))\n",
    "lum = np.ndarray((3,), np.float, np.array([0.299, 0.587, 0.114]))\n",
    "\n",
    "y_train = y_train0\n",
    "y_valid = y_valid0\n",
    "\n",
    "for i in range(n_train):\n",
    "    # grayscale with CV2\n",
    "    #X_train[i,:,:,:] = cv2.cvtColor(X_train[i,:,:,:], cv2.COLOR_RGB2GRAY)\n",
    "    # grayscale with luminosity\n",
    "    # 0.21 R + 0.72 G + 0.07 B.\n",
    "    #X_train[i,:,:,0] = (X_train1[i,:,:,0]*0.21 + X_train1[i,:,:,1]*0.72 + X_train1[i,:,:,2]*0.07).astype(int)\n",
    "    # also suggested in CarND online foruns\n",
    "    #X_train[i,:,:,0] = np.dot(X_train1[i,:,:,:], lum).astype(int)\n",
    "    #p2, p98 = np.percentile(X_train1[i,:,:,:], (2, 98))\n",
    "    #X_train1[i,:,:,:] = exposure.rescale_intensity(X_train1[i,:,:,:], in_range=(p2, p98))\n",
    "    #pass\n",
    "    #X_train[i,:,:,0] = np.dot(X_train1[i,:,:,:]\n",
    "    #X_train[i,:,:,0] = rgb2gray(X_train1[i,:,:,:])\n",
    "    \n",
    "    # grayscale\n",
    "    X_train[i,:,:,0] = np.dot(X_train0[i,:,:,:], lum)\n",
    "    \n",
    "\n",
    "for i in range(n_validation):\n",
    "    X_valid[i,:,:,0] = np.dot(X_valid0[i,:,:,:], lum).astype(int)\n",
    "\n",
    "# normalized after grayscale and save computing costs\n",
    "X_train = (X_train/255.0)-0.5\n",
    "X_valid = (X_valid/255.0)-0.5\n",
    "\n",
    "# check data\n",
    "print(\"max min \",np.amin(X_train), np.amax(X_train))\n",
    "\n",
    "fig, axs = plt.subplots(nrows=2, ncols=2)\n",
    "axs[0, 0].imshow(X_train[im1,:,:,0], cmap=plt.cm.gray)\n",
    "axs[0, 1].imshow(X_train[im2,:,:,0], cmap=plt.cm.gray)\n",
    "axs[1, 0].imshow(X_train[im3,:,:,0], cmap=plt.cm.gray)\n",
    "axs[1, 1].imshow(X_train[im4,:,:,0], cmap=plt.cm.gray)\n",
    "\n",
    "print(\"Normalized grayscaled images.\")\n",
    "plt.show()\n",
    "\n",
    "print(\"Done preprocessing.\")"
   ]
  },
  {
   "cell_type": "markdown",
   "metadata": {},
   "source": [
    "### Model Architecture\n",
    "\n",
    "The python function which creates the logitis was coded with a factory pattern, a form of closure. This makes it reusable with different number of output classes."
   ]
  },
  {
   "cell_type": "code",
   "execution_count": 5,
   "metadata": {
    "collapsed": true
   },
   "outputs": [],
   "source": [
    "import tensorflow as tf\n",
    "from tensorflow.contrib.layers import flatten\n",
    "from tensorflow.python.client import device_lib\n",
    "\n",
    "import platform\n",
    "\n",
    "def factory(n_classes, mu = 0, sigma = 0.1):\n",
    "    \n",
    "    def LeNet(x):    \n",
    "\n",
    "        # W=32, F=5, P=0, S=1\n",
    "        # out = 1 + [W-F+2P]/S  => 1 + (32-5+0)/1 = 28\n",
    "        # Input = 32x32x1. Output = 28x28x6.\n",
    "        # number of filters is arbitrary\n",
    "        # https://discussions.udacity.com/t/define-input-depth-output-depth-f/238575/14\n",
    "        # \n",
    "        conv1_W = tf.Variable(tf.truncated_normal(shape=(5, 5, 1, 16), mean = mu, stddev = sigma))\n",
    "        conv1_b = tf.Variable(tf.zeros(16))\n",
    "        conv1   = tf.nn.conv2d(x, conv1_W, strides=[1, 1, 1, 1], padding='VALID') + conv1_b\n",
    "\n",
    "        # Activation.\n",
    "        conv1 = tf.nn.relu(conv1)\n",
    "\n",
    "        # out = 1 + [W-F+2P]/S  => 1+(28-2+0)/2 = 14\n",
    "        # Pooling. Input = 28x28x16, Output = 14x14x16.\n",
    "        conv1 = tf.nn.max_pool(conv1, ksize=[1, 2, 2, 1], strides=[1, 2, 2, 1], padding='VALID')\n",
    "\n",
    "        # out = 1 + [W-F+2P]/S  => 1+(14-5+0)/1 = 10\n",
    "        # Layer 2: Convolutional. Input = 14x14x16, Output = 10x10x32.\n",
    "        conv2_W = tf.Variable(tf.truncated_normal(shape=(5, 5, 16, 32), mean = mu, stddev = sigma))\n",
    "        conv2_b = tf.Variable(tf.zeros(32))\n",
    "        conv2   = tf.nn.conv2d(conv1, conv2_W, strides=[1, 1, 1, 1], padding='VALID') + conv2_b\n",
    "\n",
    "        # Activation.\n",
    "        conv2 = tf.nn.relu(conv2)\n",
    "\n",
    "        # out = 1 + [W-F+2P]/S  => 1+(10-2+0)/2 = 5\n",
    "        # Pooling. Input = 10x10x16, Output = 5x5x32.\n",
    "        conv2 = tf.nn.max_pool(conv2, ksize=[1, 2, 2, 1], strides=[1, 2, 2, 1], padding='VALID')\n",
    "\n",
    "        # Flatten. Input = 5x5x32. Output = 800.\n",
    "        fc0   = flatten(conv2)\n",
    "\n",
    "        # out = 1 + [W-F+2P]/S  => \n",
    "        # Fully Connected. Input = 800. Output = 400.\n",
    "        fc1_W = tf.Variable(tf.truncated_normal(shape=(800, 400), mean = mu, stddev = sigma))\n",
    "        fc1_b = tf.Variable(tf.zeros(400))\n",
    "        fc1   = tf.matmul(fc0, fc1_W) + fc1_b\n",
    "\n",
    "        # Activation.\n",
    "        fc1    = tf.nn.relu(fc1)\n",
    "        \n",
    "        # connected layer\n",
    "        fc2_W = tf.Variable(tf.truncated_normal(shape=(400, 129), mean = mu, stddev = sigma))\n",
    "        fc2_b = tf.Variable(tf.zeros(129))\n",
    "        fc2    = tf.matmul(fc1, fc2_W) + fc2_b\n",
    "        \n",
    "        fc2    = tf.nn.relu(fc2)\n",
    "\n",
    "        # Fully Connected. Input = 129. Output = 86.\n",
    "        fc3_W  = tf.Variable(tf.truncated_normal(shape=(129, 86), mean = mu, stddev = sigma))\n",
    "        fc3_b  = tf.Variable(tf.zeros(86))\n",
    "        fc3    = tf.matmul(fc2, fc3_W) + fc3_b\n",
    "\n",
    "        # Activation.\n",
    "        fc3    = tf.nn.relu(fc3)\n",
    "\n",
    "        # Input = 86 Output = n_classes.\n",
    "        fc4_W  = tf.Variable(tf.truncated_normal(shape=(86, n_classes), mean = mu, stddev = sigma))\n",
    "        fc4_b  = tf.Variable(tf.zeros(n_classes))\n",
    "        \n",
    "        # final\n",
    "        logits = tf.matmul(fc3, fc4_W) + fc4_b\n",
    "\n",
    "        return logits\n",
    "    return LeNet"
   ]
  },
  {
   "cell_type": "markdown",
   "metadata": {},
   "source": [
    "### Train, Validate and Test the Model"
   ]
  },
  {
   "cell_type": "markdown",
   "metadata": {},
   "source": [
    "Input data was already split into training, validation and testing. This separation helps to prevent overfiting.\n",
    "\n",
    "Running the model on AWS enables computations on GPU. For 50 epochs it takes about 3 minutes."
   ]
  },
  {
   "cell_type": "code",
   "execution_count": 6,
   "metadata": {
    "collapsed": true
   },
   "outputs": [],
   "source": [
    "\n",
    "def evaluate(X_data, y_data):\n",
    "    num_examples = len(X_data)\n",
    "    total_accuracy = 0\n",
    "    total_loss = 0\n",
    "    sess = tf.get_default_session()\n",
    "    for offset in range(0, num_examples, BATCH_SIZE):\n",
    "        batch_x, batch_y = X_data[offset:offset+BATCH_SIZE], y_data[offset:offset+BATCH_SIZE]\n",
    "        loss, accuracy = sess.run([loss_operation, accuracy_operation], feed_dict={x: batch_x, y: batch_y})\n",
    "        total_loss += (loss*len(batch_x))\n",
    "        total_accuracy += (accuracy * len(batch_x))\n",
    "    return total_loss/num_examples, total_accuracy / num_examples\n"
   ]
  },
  {
   "cell_type": "code",
   "execution_count": 7,
   "metadata": {},
   "outputs": [
    {
     "name": "stdout",
     "output_type": "stream",
     "text": [
      "System:  \n",
      "uname_result(system='Linux', node='ip-172-31-32-67', release='4.4.0-97-generic', version='#120-Ubuntu SMP Tue Sep 19 17:28:18 UTC 2017', machine='x86_64', processor='x86_64')\n",
      "\n",
      "['/gpu:0']\n",
      "\n"
     ]
    }
   ],
   "source": [
    "### Training pipeline\n",
    "\n",
    "x = tf.placeholder(tf.float32, (None, 32, 32, 1))\n",
    "y = tf.placeholder(tf.int32, (None))\n",
    "one_hot_y = tf.one_hot(y, n_classes)\n",
    "\n",
    "EPOCHS = 50\n",
    "BATCH_SIZE = 128\n",
    "#BATCH_SIZE = 256\n",
    "rate = 0.0005\n",
    "\n",
    "LeNetFn = factory(n_classes)\n",
    "logits = LeNetFn(x)\n",
    "cross_entropy = tf.nn.softmax_cross_entropy_with_logits(labels=one_hot_y, logits=logits)\n",
    "loss_operation = tf.reduce_mean(cross_entropy)\n",
    "optimizer = tf.train.AdamOptimizer(learning_rate = rate)\n",
    "training_operation = optimizer.minimize(loss_operation)\n",
    "\n",
    "correct_prediction = tf.equal(tf.argmax(logits, 1), tf.argmax(one_hot_y, 1))\n",
    "accuracy_operation = tf.reduce_mean(tf.cast(correct_prediction, tf.float32))\n",
    "saver = tf.train.Saver()\n",
    "\n",
    "print(\"System:  \")\n",
    "print(platform.uname())\n",
    "print(\"\")\n",
    "devices = [x.name for x in device_lib.list_local_devices() if x.device_type == 'GPU']\n",
    "print(devices)\n",
    "print(\"\")\n",
    "\n",
    "acc_epochs = np.zeros((EPOCHS,), np.float)\n",
    "loss_fn = np.zeros((EPOCHS,), np.float)"
   ]
  },
  {
   "cell_type": "code",
   "execution_count": 8,
   "metadata": {},
   "outputs": [
    {
     "name": "stdout",
     "output_type": "stream",
     "text": [
      "2017-10-13 23:16:19.360643  - Training...\n",
      "\n",
      "EPOCH 1 ...\n",
      "Validation Accuracy = 0.832\n",
      "\n",
      "EPOCH 2 ...\n",
      "Validation Accuracy = 0.912\n",
      "\n",
      "EPOCH 3 ...\n",
      "Validation Accuracy = 0.941\n",
      "\n",
      "EPOCH 4 ...\n",
      "Validation Accuracy = 0.972\n",
      "\n",
      "EPOCH 5 ...\n",
      "Validation Accuracy = 0.985\n",
      "\n",
      "EPOCH 6 ...\n",
      "Validation Accuracy = 0.987\n",
      "\n",
      "EPOCH 7 ...\n",
      "Validation Accuracy = 0.988\n",
      "\n",
      "EPOCH 8 ...\n",
      "Validation Accuracy = 0.992\n",
      "\n",
      "EPOCH 9 ...\n",
      "Validation Accuracy = 0.993\n",
      "\n",
      "EPOCH 10 ...\n",
      "Validation Accuracy = 0.994\n",
      "\n",
      "EPOCH 11 ...\n",
      "Validation Accuracy = 0.995\n",
      "\n",
      "EPOCH 12 ...\n",
      "Validation Accuracy = 0.995\n",
      "\n",
      "EPOCH 13 ...\n",
      "Validation Accuracy = 0.998\n",
      "\n",
      "EPOCH 14 ...\n",
      "Validation Accuracy = 0.996\n",
      "\n",
      "EPOCH 15 ...\n",
      "Validation Accuracy = 0.998\n",
      "\n",
      "EPOCH 16 ...\n",
      "Validation Accuracy = 0.999\n",
      "\n",
      "EPOCH 17 ...\n",
      "Validation Accuracy = 1.000\n",
      "\n",
      "EPOCH 18 ...\n",
      "Validation Accuracy = 0.996\n",
      "\n",
      "EPOCH 19 ...\n",
      "Validation Accuracy = 1.000\n",
      "\n",
      "EPOCH 20 ...\n",
      "Validation Accuracy = 0.996\n",
      "\n",
      "EPOCH 21 ...\n",
      "Validation Accuracy = 0.995\n",
      "\n",
      "EPOCH 22 ...\n",
      "Validation Accuracy = 0.999\n",
      "\n",
      "EPOCH 23 ...\n",
      "Validation Accuracy = 0.998\n",
      "\n",
      "EPOCH 24 ...\n",
      "Validation Accuracy = 0.999\n",
      "\n",
      "EPOCH 25 ...\n",
      "Validation Accuracy = 0.995\n",
      "\n",
      "EPOCH 26 ...\n",
      "Validation Accuracy = 0.998\n",
      "\n",
      "EPOCH 27 ...\n",
      "Validation Accuracy = 0.997\n",
      "\n",
      "EPOCH 28 ...\n",
      "Validation Accuracy = 1.000\n",
      "\n",
      "EPOCH 29 ...\n",
      "Validation Accuracy = 1.000\n",
      "\n",
      "EPOCH 30 ...\n",
      "Validation Accuracy = 1.000\n",
      "\n",
      "EPOCH 31 ...\n",
      "Validation Accuracy = 1.000\n",
      "\n",
      "EPOCH 32 ...\n",
      "Validation Accuracy = 1.000\n",
      "\n",
      "EPOCH 33 ...\n",
      "Validation Accuracy = 1.000\n",
      "\n",
      "EPOCH 34 ...\n",
      "Validation Accuracy = 1.000\n",
      "\n",
      "EPOCH 35 ...\n",
      "Validation Accuracy = 1.000\n",
      "\n",
      "EPOCH 36 ...\n",
      "Validation Accuracy = 1.000\n",
      "\n",
      "EPOCH 37 ...\n",
      "Validation Accuracy = 0.968\n",
      "\n",
      "EPOCH 38 ...\n",
      "Validation Accuracy = 0.998\n",
      "\n",
      "EPOCH 39 ...\n",
      "Validation Accuracy = 0.999\n",
      "\n",
      "EPOCH 40 ...\n",
      "Validation Accuracy = 0.999\n",
      "\n",
      "EPOCH 41 ...\n",
      "Validation Accuracy = 0.999\n",
      "\n",
      "EPOCH 42 ...\n",
      "Validation Accuracy = 0.998\n",
      "\n",
      "EPOCH 43 ...\n",
      "Validation Accuracy = 0.999\n",
      "\n",
      "EPOCH 44 ...\n",
      "Validation Accuracy = 0.998\n",
      "\n",
      "EPOCH 45 ...\n",
      "Validation Accuracy = 1.000\n",
      "\n",
      "EPOCH 46 ...\n",
      "Validation Accuracy = 1.000\n",
      "\n",
      "EPOCH 47 ...\n",
      "Validation Accuracy = 1.000\n",
      "\n",
      "EPOCH 48 ...\n",
      "Validation Accuracy = 1.000\n",
      "\n",
      "EPOCH 49 ...\n",
      "Validation Accuracy = 1.000\n",
      "\n",
      "EPOCH 50 ...\n",
      "Validation Accuracy = 1.000\n",
      "\n",
      "2017-10-13 23:20:04.733339  - Finished training\n",
      "Model saved\n"
     ]
    }
   ],
   "source": [
    "\n",
    "\n",
    "with tf.Session() as sess:\n",
    "    sess.run(tf.global_variables_initializer())\n",
    "    num_examples = len(X_train)\n",
    "    \n",
    "    print(datetime.now().isoformat(' '), \" - Training...\")\n",
    "    print()\n",
    "    for i in range(EPOCHS):\n",
    "        X_train, y_train = shuffle(X_train, y_train)\n",
    "        for offset in range(0, num_examples, BATCH_SIZE):\n",
    "            end = offset + BATCH_SIZE\n",
    "            batch_x, batch_y = X_train[offset:end], y_train[offset:end]\n",
    "            sess.run(training_operation, feed_dict={x: batch_x, y: batch_y})\n",
    "            \n",
    "        #loss, validation_accuracy = evaluate(X_valid, y_valid)\n",
    "        loss, validation_accuracy = evaluate(X_train, y_train)\n",
    "        print(\"EPOCH {} ...\".format(i+1))\n",
    "        print(\"Validation Accuracy = {:.3f}\".format(validation_accuracy))\n",
    "        print()\n",
    "        acc_epochs[i] = validation_accuracy\n",
    "        loss_fn[i] = loss\n",
    "    \n",
    "    print(datetime.now().isoformat(' '), \" - Finished training\")\n",
    "    saver.save(sess, './lenet/lenet')\n",
    "    print(\"Model saved\")\n"
   ]
  },
  {
   "cell_type": "code",
   "execution_count": 9,
   "metadata": {},
   "outputs": [
    {
     "name": "stdout",
     "output_type": "stream",
     "text": [
      "Average accuracy:  0.990127302522  highest acc:  1.0\n"
     ]
    },
    {
     "data": {
      "image/png": "[encoded data removed]",
      "text/plain": [
       "<matplotlib.figure.Figure at 0x7fbeb1aa1748>"
      ]
     },
     "metadata": {},
     "output_type": "display_data"
    },
    {
     "data": {
      "text/plain": [
       "<matplotlib.figure.Figure at 0x7fbefa896ac8>"
      ]
     },
     "metadata": {},
     "output_type": "display_data"
    },
    {
     "data": {
      "image/png": "[encoded data removed]",
      "text/plain": [
       "<matplotlib.figure.Figure at 0x7fbefa896a90>"
      ]
     },
     "metadata": {},
     "output_type": "display_data"
    },
    {
     "data": {
      "text/plain": [
       "<matplotlib.figure.Figure at 0x7fbef99e4d68>"
      ]
     },
     "metadata": {},
     "output_type": "display_data"
    }
   ],
   "source": [
    "model_r_max = np.max(acc_epochs)\n",
    "print(\"Average accuracy: \", np.mean(acc_epochs), \" highest acc: \", model_r_max)\n",
    "plt.figure()\n",
    "plt.plot(acc_epochs)\n",
    "plt.xlabel(\"epochs\")\n",
    "plt.ylabel(\"accuracy\")\n",
    "plt.title(\"Model Accuracy over Epochs\")\n",
    "plt.show()\n",
    "plt.savefig(\"./output/train_evolution_1FD32_L5_E\"+str(EPOCHS)+\"_B\"+str(BATCH_SIZE)+\"_R\"+str(rate)+\"_A999.png\")\n",
    "\n",
    "plt.figure()\n",
    "plt.plot(loss_fn)\n",
    "plt.xlabel(\"epochs\")\n",
    "plt.ylabel(\"loss function\")\n",
    "plt.show()\n",
    "plt.savefig(\"./output/train_loss_1FD32_L5_E\"+str(EPOCHS)+\"_B\"+str(BATCH_SIZE)+\"_R\"+str(rate)+\"_A999.png\")\n",
    "\n"
   ]
  },
  {
   "cell_type": "code",
   "execution_count": 11,
   "metadata": {},
   "outputs": [
    {
     "name": "stdout",
     "output_type": "stream",
     "text": [
      "Validating: \n",
      "INFO:tensorflow:Restoring parameters from ./lenet/lenet\n",
      "Valid Accuracy = 0.953\n"
     ]
    }
   ],
   "source": [
    "print(\"Validating: \")\n",
    "with tf.Session() as sess:\n",
    "    saver.restore(sess, tf.train.latest_checkpoint('./lenet'))\n",
    "\n",
    "    _, test_accuracy = evaluate(X_valid, y_valid)\n",
    "    print(\"Valid Accuracy = {:.3f}\".format(test_accuracy))"
   ]
  },
  {
   "cell_type": "markdown",
   "metadata": {},
   "source": [
    "# Evaluate\n",
    "\n",
    "After training and validating, its time to test the model with \"new\" data. This data set was provided in a separated file, so the model was not exposed to it yet."
   ]
  },
  {
   "cell_type": "code",
   "execution_count": 12,
   "metadata": {},
   "outputs": [
    {
     "name": "stdout",
     "output_type": "stream",
     "text": [
      "INFO:tensorflow:Restoring parameters from ./lenet/lenet\n",
      "Test Accuracy = 0.928\n"
     ]
    }
   ],
   "source": [
    "n_test = X_test0.shape[0]\n",
    "X_test = np.zeros((n_test, X_test0.shape[1], X_test0.shape[2], 1), np.int)\n",
    "\n",
    "for i in range(n_test):\n",
    "    X_test[i,:,:,0] = np.dot(X_test0[i,:,:,:], lum).astype(int)\n",
    "\n",
    "# normalized after grayscale and save computing costs\n",
    "X_test = (X_test/255.0)-0.5\n",
    "\n",
    "with tf.Session() as sess:\n",
    "    saver.restore(sess, tf.train.latest_checkpoint('./lenet'))\n",
    "\n",
    "    _, test_accuracy = evaluate(X_test, y_test0)\n",
    "    print(\"Test Accuracy = {:.3f}\".format(test_accuracy))"
   ]
  },
  {
   "cell_type": "markdown",
   "metadata": {},
   "source": [
    "---\n",
    "\n",
    "## Step 3: Test a Model on New Images\n",
    "\n",
    "Ater testing the model, let's try its accuracy on 5 new images found on internet."
   ]
  },
  {
   "cell_type": "markdown",
   "metadata": {},
   "source": [
    "### Load and Output the Images"
   ]
  },
  {
   "cell_type": "code",
   "execution_count": 13,
   "metadata": {},
   "outputs": [
    {
     "data": {
      "image/png": "[encoded data removed]",
      "text/plain": [
       "<matplotlib.figure.Figure at 0x7fbef9975ef0>"
      ]
     },
     "metadata": {},
     "output_type": "display_data"
    },
    {
     "data": {
      "image/png": "[encoded data removed]",
      "text/plain": [
       "<matplotlib.figure.Figure at 0x7fbf21e19128>"
      ]
     },
     "metadata": {},
     "output_type": "display_data"
    }
   ],
   "source": [
    "import matplotlib.image as mpimg\n",
    "\n",
    "xtest20 = np.ndarray((5, 32, 32, 3), np.float)\n",
    "xtest21 = np.ndarray((5, 32, 32, 1), np.float)\n",
    "#xtest20[0, :, :, :] = mpimg.imread('./new-data/ni_01_14.png')\n",
    "#xtest20[1, :, :, :] = mpimg.imread('./new-data/ni_02_15.png')\n",
    "#xtest20[2, :, :, :] = mpimg.imread('./new-data/ni_03_27.png')\n",
    "#xtest20[3, :, :, :] = mpimg.imread('./new-data/ni_04_30.png')\n",
    "#xtest20[4, :, :, :] = mpimg.imread('./new-data/ni_05_40.png')\n",
    "\n",
    "xtest20[0, :, :, :] = mpimg.imread('./new-data/ni_01_14.jpg')\n",
    "xtest20[1, :, :, :] = mpimg.imread('./new-data/ni_02_15.jpg')\n",
    "xtest20[2, :, :, :] = mpimg.imread('./new-data/ni_03_27.jpg')\n",
    "xtest20[3, :, :, :] = mpimg.imread('./new-data/ni_04_30.jpg')\n",
    "xtest20[4, :, :, :] = mpimg.imread('./new-data/ni_05_40.jpg')\n",
    "\n",
    "ylabels = np.ndarray((5,), np.int, np.array([14,15,27,30,40]))\n",
    "lum = np.ndarray((3,), np.float, np.array([0.299, 0.587, 0.114]))\n",
    "for i in range(5):\n",
    "    xtest21[i,:,:,0] = np.dot(xtest20[i,:,:,:], lum)\n",
    "    \n",
    "# normalized after grayscale and save computing costs\n",
    "xtest21 = (xtest21/255.0)-0.5\n",
    "\n",
    "fig, axs = plt.subplots(nrows=3, ncols=2)\n",
    "axs[0, 0].imshow(xtest20[0,:,:,:])\n",
    "axs[0, 1].imshow(xtest20[1,:,:,:])\n",
    "axs[1, 0].imshow(xtest20[2,:,:,:])\n",
    "axs[1, 1].imshow(xtest20[3,:,:,:])\n",
    "axs[2, 0].imshow(xtest20[4,:,:,:])\n",
    "\n",
    "plt.show()\n",
    "\n",
    "fig, axs = plt.subplots(nrows=3, ncols=2)\n",
    "axs[0, 0].imshow(xtest21[0,:,:,0], cmap=plt.cm.gray)\n",
    "axs[0, 1].imshow(xtest21[1,:,:,0], cmap=plt.cm.gray)\n",
    "axs[1, 0].imshow(xtest21[2,:,:,0], cmap=plt.cm.gray)\n",
    "axs[1, 1].imshow(xtest21[3,:,:,0], cmap=plt.cm.gray)\n",
    "axs[2, 0].imshow(xtest21[4,:,:,0], cmap=plt.cm.gray)\n",
    "\n",
    "plt.show()\n",
    "\n"
   ]
  },
  {
   "cell_type": "markdown",
   "metadata": {},
   "source": [
    "### Predict the Sign Type for Each Image"
   ]
  },
  {
   "cell_type": "code",
   "execution_count": 14,
   "metadata": {},
   "outputs": [
    {
     "name": "stdout",
     "output_type": "stream",
     "text": [
      "INFO:tensorflow:Restoring parameters from ./lenet/lenet\n",
      "Logits\n",
      "[[ -9.19192505  10.0042429    1.29654014 -27.06676865  -6.24641037\n",
      "  -14.05370712 -16.38176346 -24.73636436 -22.43359375 -32.57923508\n",
      "  -15.50348568 -24.81461716  -0.75158906 -10.13997269  25.7023735\n",
      "  -21.95749474 -63.27145004   7.78945684 -17.17030334 -41.61355209\n",
      "  -12.64672089 -18.65994453 -17.57555962 -18.36603165 -30.31494141\n",
      "   -4.64325762  -4.77839947 -36.7154808  -30.70487976 -10.96973801\n",
      "  -13.49464512 -31.48449707 -18.63322258  -1.00251734  -6.9311986\n",
      "   -9.1364069  -31.11994743   2.82251906   0.35492221 -10.02537918\n",
      "   -0.45822456 -42.19474792 -25.49608612]\n",
      " [-12.22182369   2.51530051  -4.75072193  10.63594723   0.28659785\n",
      "   -1.78447044 -28.05654907 -20.44342995 -24.02762222   0.56394231\n",
      "  -37.52223206 -52.52075195   3.42226481  15.46515369 -28.59199524\n",
      "   15.17523003 -46.20042419 -21.23786163 -19.79485321 -25.60715866\n",
      "  -25.18725395 -52.93418503   4.13191986 -38.70389175 -33.02017212\n",
      "  -22.57774544 -13.97543812 -43.82376099   0.4538973   -1.18482828\n",
      "  -51.71731186 -40.26700974  -4.14393806  -0.88707876 -18.05291367\n",
      "   16.77182198   4.63538361 -31.63377762 -14.9858551   -5.41299486\n",
      "  -24.13656998 -20.73956871 -31.96615791]\n",
      " [ -5.69143295  29.33576584 -25.91496468 -54.19385529  10.3898983\n",
      "    1.55502999 -10.21845627 -37.54892731 -54.8032074  -63.20101166\n",
      "  -41.95126724  -7.24624586  19.18460464 -33.37414551   0.77267075\n",
      "  -43.89196014 -70.97246552 -32.22324371  -1.09532821 -74.30755615\n",
      "  -24.39016533 -43.32471848 -73.56188965 -60.44042587 -54.45734787\n",
      "  -25.36089325   1.46401811 -14.94841862 -44.72235489 -39.66427612\n",
      "  -48.85358429 -71.33682251   2.0989511  -31.49140358 -52.69199371\n",
      "  -35.23439407 -41.98279572  10.47777081  -8.83584881 -33.73968887\n",
      "   25.44639397 -24.49795914 -10.36846542]\n",
      " [-71.251091   -46.04450989 -15.90805054 -24.22593498 -67.97364807\n",
      "   -7.32366276 -53.60364532 -34.92037201 -28.3302784  -21.54215813\n",
      "  -10.39643478 -11.7344017  -63.26524353 -19.44701004 -13.43717194\n",
      "  -46.24608231 -68.54214478 -27.11673737 -24.18252754  13.93457222\n",
      "  -16.74518204  26.81198692  15.78407001  16.0741806   11.83925819\n",
      "   38.60680771  -8.64576435 -19.98763084   7.22319984  18.42742538\n",
      "    4.82588673  12.49958992 -68.86722565 -34.24888229 -12.9064436\n",
      "  -33.37695312 -39.51373291 -22.86864471 -15.9846859  -16.82720566\n",
      "  -18.65836716 -58.74277878 -53.68140411]\n",
      " [-19.70772552  -1.82331288 -14.92904282  -3.113343   -27.75069046\n",
      "   -4.19802427 -17.84126663   2.98316622 -21.2712326    5.44001627\n",
      "  -15.4081974  -18.75189972   7.32501936   1.30465043 -13.48704433\n",
      "    0.33735278  -7.08003521  -5.87187576 -33.56417847 -20.77654266\n",
      "  -30.19247055 -32.51596832 -34.6438446  -20.43834114 -34.10746384\n",
      "  -34.59411621 -11.5264101  -47.34443283  -2.80893636 -18.365242\n",
      "  -18.0318718  -50.21797562   1.61104047  -3.836303    -6.25076246\n",
      "   -0.88979149 -28.62583733 -16.61203575 -15.19626522 -27.6097641\n",
      "    7.95799875 -12.09927273  -9.39220428]]\n",
      "(5, 43)\n",
      "\n",
      "\n",
      "softmax\n",
      "[[  7.00807267e-16   1.52190822e-07   2.51582730e-11   1.20963048e-23\n",
      "    1.33296694e-14   5.42192490e-18   5.28556572e-19   1.24375622e-22\n",
      "    1.24398462e-21   4.88223796e-26   1.27210307e-18   1.15013724e-22\n",
      "    3.24481609e-12   2.71560616e-16   9.99999881e-01   2.00254812e-21\n",
      "    0.00000000e+00   1.66157239e-08   2.40233154e-19   5.82190228e-30\n",
      "    2.21411335e-17   5.41613147e-20   1.60189200e-19   7.26665890e-20\n",
      "    4.69882385e-25   6.62308004e-14   5.78586116e-14   7.80315554e-28\n",
      "    3.18156724e-25   1.18441596e-16   9.48312528e-18   1.45900786e-25\n",
      "    5.56283292e-20   2.52471915e-12   6.72078292e-15   7.40815863e-16\n",
      "    2.10077875e-25   1.15719226e-10   9.81163501e-12   3.04532829e-16\n",
      "    4.35107202e-12   3.25576576e-30   5.81823793e-23]\n",
      " [  1.73494777e-13   4.36051550e-07   3.04750086e-10   1.46652607e-03\n",
      "    4.69488057e-08   5.91794924e-09   2.30331301e-20   4.66323964e-17\n",
      "    1.29447004e-18   6.19545872e-08   1.78426374e-24   5.46618932e-31\n",
      "    1.08000904e-06   1.83479473e-01   1.34837799e-20   1.37301475e-01\n",
      "    3.03786247e-28   2.10703267e-17   8.91993853e-17   2.66752228e-19\n",
      "    4.05948708e-19   3.61519126e-31   2.19597086e-06   5.47355034e-25\n",
      "    1.60945510e-22   5.51780423e-18   3.00400370e-14   3.27144662e-27\n",
      "    5.54985640e-08   1.07793445e-08   1.22071016e-30   1.14660970e-25\n",
      "    5.59071178e-10   1.45178722e-08   5.09184274e-16   6.77744985e-01\n",
      "    3.63310619e-06   6.43844037e-22   1.09366014e-14   1.57153110e-10\n",
      "    1.16085131e-18   3.46797788e-17   4.61775193e-22]\n",
      " [  6.01269302e-16   9.79914486e-01   9.91060056e-25   5.18485095e-37\n",
      "    5.79565373e-09   8.43661512e-13   6.50141338e-18   8.78085252e-30\n",
      "    2.81899773e-37   0.00000000e+00   1.07553137e-31   1.27005391e-16\n",
      "    3.82467806e-05   5.70978477e-28   3.85827898e-13   1.54451626e-32\n",
      "    0.00000000e+00   1.80488698e-27   5.95843633e-14   0.00000000e+00\n",
      "    4.55316631e-24   2.72358397e-32   0.00000000e+00   0.00000000e+00\n",
      "    3.98383459e-37   1.72476903e-24   7.70267910e-13   5.73867536e-20\n",
      "    6.73216929e-33   1.05888550e-30   1.08140039e-34   0.00000000e+00\n",
      "    1.45341595e-12   3.75217684e-27   2.32801889e-36   8.88636294e-29\n",
      "    1.04215450e-31   6.32798480e-09   2.59099239e-17   3.96156014e-28\n",
      "    2.00472791e-02   4.08788352e-24   5.59576683e-18]\n",
      " [  0.00000000e+00   1.72343523e-37   2.11103123e-24   5.15328490e-28\n",
      "    0.00000000e+00   1.12887867e-20   0.00000000e+00   1.16828820e-32\n",
      "    8.50332527e-30   7.54455399e-27   5.22587356e-22   1.37115713e-22\n",
      "    0.00000000e+00   6.13117918e-26   2.49794888e-23   1.40881783e-37\n",
      "    0.00000000e+00   2.86170891e-29   5.38188075e-28   1.92744067e-11\n",
      "    9.13972273e-25   7.54346956e-06   1.22520091e-10   1.63757466e-10\n",
      "    2.37136114e-12   9.99992490e-01   3.00930246e-21   3.57072373e-26\n",
      "    2.34568140e-14   1.72267089e-09   2.13367726e-15   4.58961385e-12\n",
      "    0.00000000e+00   2.28650740e-32   4.24693429e-23   5.46820694e-32\n",
      "    1.18215759e-34   2.00238224e-27   1.95529884e-24   8.41997097e-25\n",
      "    1.34910980e-25   0.00000000e+00   0.00000000e+00]\n",
      " [  5.95376287e-13   3.48251415e-05   7.08185524e-11   9.58606142e-06\n",
      "    1.91326624e-16   3.24017878e-06   3.84932277e-12   4.25912486e-03\n",
      "    1.24672028e-13   4.96954732e-02   4.38584100e-11   1.54846513e-12\n",
      "    3.27313006e-01   7.94969033e-04   2.99501257e-10   3.02174769e-04\n",
      "    1.81521202e-07   6.07609707e-07   5.71491330e-19   2.04460838e-13\n",
      "    1.66465317e-17   1.63020238e-18   1.94140699e-19   2.86740602e-13\n",
      "    3.31943237e-19   2.04039078e-19   2.12760609e-09   5.91999286e-25\n",
      "    1.29969685e-05   2.27942188e-12   3.18130678e-12   3.34470214e-26\n",
      "    1.07997516e-03   4.65224366e-06   4.15983521e-07   8.85760819e-05\n",
      "    7.97452403e-17   1.31592914e-11   5.42117497e-11   2.20281969e-16\n",
      "    6.16400123e-01   1.19977606e-09   1.79789978e-08]]\n",
      "(5, 43)\n",
      "0 14 1.0\n",
      "1 15 0.137301\n",
      "2 27 5.73868e-20\n",
      "3 30 2.13368e-15\n",
      "4 40 0.6164\n"
     ]
    }
   ],
   "source": [
    "\n",
    "with tf.Session() as sess:\n",
    "    saver.restore(sess, tf.train.latest_checkpoint('./lenet'))\n",
    "    r1 = sess.run(logits, feed_dict={x: xtest21})\n",
    "    print(\"Logits\")\n",
    "    print(r1)\n",
    "    print(r1.shape)\n",
    "    \n",
    "    print(\"\")\n",
    "    print(\"\")\n",
    "    print(\"softmax\")\n",
    "    r2 = sess.run(tf.nn.softmax(logits), feed_dict={x: xtest21})\n",
    "    print(r2)\n",
    "    print(r2.shape)\n",
    "    for i in range(5):\n",
    "        print(i, ylabels[i], r2[i, ylabels[i]])\n",
    "    "
   ]
  },
  {
   "cell_type": "markdown",
   "metadata": {},
   "source": [
    "### Analyze Performance"
   ]
  },
  {
   "cell_type": "code",
   "execution_count": 15,
   "metadata": {},
   "outputs": [
    {
     "name": "stdout",
     "output_type": "stream",
     "text": [
      "INFO:tensorflow:Restoring parameters from ./lenet/lenet\n",
      "Test 2 Accuracy = 0.400\n"
     ]
    }
   ],
   "source": [
    "with tf.Session() as sess:\n",
    "    saver.restore(sess, tf.train.latest_checkpoint('./lenet'))\n",
    "    _, test_2_accuracy = evaluate(xtest21, ylabels)\n",
    "    print(\"Test 2 Accuracy = {:.3f}\".format(test_2_accuracy))\n",
    "    "
   ]
  },
  {
   "cell_type": "markdown",
   "metadata": {},
   "source": [
    "### Output Top 5 Softmax Probabilities For Each Image Found on the Web"
   ]
  },
  {
   "cell_type": "markdown",
   "metadata": {},
   "source": [
    "For each of these 5 new images, show the 5 highest probabilities."
   ]
  },
  {
   "cell_type": "code",
   "execution_count": 16,
   "metadata": {},
   "outputs": [
    {
     "name": "stdout",
     "output_type": "stream",
     "text": [
      "INFO:tensorflow:Restoring parameters from ./lenet/lenet\n",
      "TopKV2(values=array([[ 25.7023735 ,  10.0042429 ,   7.78945684,   2.82251906,\n",
      "          1.29654014],\n",
      "       [ 16.77182198,  15.46515369,  15.17523003,  10.63594723,\n",
      "          4.63538361],\n",
      "       [ 29.33576584,  25.44639397,  19.18460464,  10.47777081,  10.3898983 ],\n",
      "       [ 38.60680771,  26.81198692,  18.42742538,  16.0741806 ,\n",
      "         15.78407001],\n",
      "       [  7.95799875,   7.32501936,   5.44001627,   2.98316622,\n",
      "          1.61104047]], dtype=float32), indices=array([[14,  1, 17, 37,  2],\n",
      "       [35, 13, 15,  3, 36],\n",
      "       [ 1, 40, 12, 37,  4],\n",
      "       [25, 21, 29, 23, 22],\n",
      "       [40, 12,  9,  7, 32]], dtype=int32))\n",
      "TopKV2(values=array([[  9.99999881e-01,   1.52190822e-07,   1.66157239e-08,\n",
      "          1.15719226e-10,   2.51582730e-11],\n",
      "       [  6.77744985e-01,   1.83479473e-01,   1.37301475e-01,\n",
      "          1.46652607e-03,   3.63310619e-06],\n",
      "       [  9.79914486e-01,   2.00472791e-02,   3.82467806e-05,\n",
      "          6.32798480e-09,   5.79565373e-09],\n",
      "       [  9.99992490e-01,   7.54346956e-06,   1.72267089e-09,\n",
      "          1.63757466e-10,   1.22520091e-10],\n",
      "       [  6.16400123e-01,   3.27313006e-01,   4.96954732e-02,\n",
      "          4.25912486e-03,   1.07997516e-03]], dtype=float32), indices=array([[14,  1, 17, 37,  2],\n",
      "       [35, 13, 15,  3, 36],\n",
      "       [ 1, 40, 12, 37,  4],\n",
      "       [25, 21, 29, 23, 22],\n",
      "       [40, 12,  9,  7, 32]], dtype=int32))\n"
     ]
    }
   ],
   "source": [
    "with tf.Session() as sess:\n",
    "    saver.restore(sess, tf.train.latest_checkpoint('./lenet'))\n",
    "\n",
    "    prob1 = sess.run(tf.nn.top_k(logits, k=5), feed_dict={x: xtest21})\n",
    "    print(prob1)\n",
    "    \n",
    "    prob2 = sess.run(tf.nn.top_k(tf.nn.softmax(logits), k=5), feed_dict={x: xtest21})\n",
    "    print(prob2)"
   ]
  },
  {
   "cell_type": "markdown",
   "metadata": {
    "collapsed": true
   },
   "source": [
    "Model was able to predict only 2 out of 5 images, the first image with 100%. This first image contains the \"stop\" sign, which is the 14th label. The second was label 40th, Roundabout with 61%."
   ]
  },
  {
   "cell_type": "code",
   "execution_count": null,
   "metadata": {
    "collapsed": true
   },
   "outputs": [],
   "source": []
  }
 ],
 "metadata": {
  "anaconda-cloud": {},
  "kernelspec": {
   "display_name": "Python 3",
   "language": "python",
   "name": "python3"
  },
  "language_info": {
   "codemirror_mode": {
    "name": "ipython",
    "version": 3
   },
   "file_extension": ".py",
   "mimetype": "text/x-python",
   "name": "python",
   "nbconvert_exporter": "python",
   "pygments_lexer": "ipython3",
   "version": "3.6.1"
  }
 },
 "nbformat": 4,
 "nbformat_minor": 1
}
