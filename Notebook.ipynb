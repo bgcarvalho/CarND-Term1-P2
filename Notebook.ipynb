{
 "cells": [
  {
   "cell_type": "markdown",
   "metadata": {},
   "source": [
    "# Self-Driving Car Engineer Nanodegree\n",
    "\n",
    "## Deep Learning\n",
    "\n",
    "## Project: Build a Traffic Sign Recognition Classifier\n",
    "\n",
    "In this notebook, a template is provided for you to implement your functionality in stages, which is required to successfully complete this project. If additional code is required that cannot be included in the notebook, be sure that the Python code is successfully imported and included in your submission if necessary. \n",
    "\n",
    "> **Note**: Once you have completed all of the code implementations, you need to finalize your work by exporting the iPython Notebook as an HTML document. Before exporting the notebook to html, all of the code cells need to have been run so that reviewers can see the final implementation and output. You can then export the notebook by using the menu above and navigating to  \\n\",\n",
    "    \"**File -> Download as -> HTML (.html)**. Include the finished document along with this notebook as your submission. \n",
    "\n",
    "In addition to implementing code, there is a writeup to complete. The writeup should be completed in a separate file, which can be either a markdown file or a pdf document. There is a [write up template](https://github.com/udacity/CarND-Traffic-Sign-Classifier-Project/blob/master/writeup_template.md) that can be used to guide the writing process. Completing the code template and writeup template will cover all of the [rubric points](https://review.udacity.com/#!/rubrics/481/view) for this project.\n",
    "\n",
    "The [rubric](https://review.udacity.com/#!/rubrics/481/view) contains \"Stand Out Suggestions\" for enhancing the project beyond the minimum requirements. The stand out suggestions are optional. If you decide to pursue the \"stand out suggestions\", you can include the code in this Ipython notebook and also discuss the results in the writeup file.\n",
    "\n",
    "\n",
    ">**Note:** Code and Markdown cells can be executed using the **Shift + Enter** keyboard shortcut. In addition, Markdown cells can be edited by typically double-clicking the cell to enter edit mode."
   ]
  },
  {
   "cell_type": "markdown",
   "metadata": {},
   "source": [
    "---\n",
    "## Step 0: Load The Data"
   ]
  },
  {
   "cell_type": "code",
   "execution_count": 9,
   "metadata": {
    "collapsed": true
   },
   "outputs": [],
   "source": [
    "# Load pickled data\n",
    "import pickle\n",
    "import numpy as np\n",
    "\n",
    "training_file = './traffic-signs-data/train.p'\n",
    "validation_file= './traffic-signs-data/valid.p'\n",
    "testing_file = './traffic-signs-data/test.p'\n",
    "\n",
    "with open(training_file, mode='rb') as f:\n",
    "    train = pickle.load(f)\n",
    "with open(validation_file, mode='rb') as f:\n",
    "    valid = pickle.load(f)\n",
    "with open(testing_file, mode='rb') as f:\n",
    "    test = pickle.load(f)\n",
    "    \n",
    "X_train0, y_train0 = train['features'], train['labels']\n",
    "X_valid0, y_valid0 = valid['features'], valid['labels']\n",
    "X_test0, y_test0 = test['features'], test['labels']"
   ]
  },
  {
   "cell_type": "markdown",
   "metadata": {},
   "source": [
    "---\n",
    "\n",
    "## Step 1: Dataset Summary & Exploration\n",
    "\n",
    "The pickled data is a dictionary with 4 key/value pairs:\n",
    "\n",
    "- `'features'` is a 4D array containing raw pixel data of the traffic sign images, (num examples, width, height, channels).\n",
    "- `'labels'` is a 1D array containing the label/class id of the traffic sign. The file `signnames.csv` contains id -> name mappings for each id.\n",
    "- `'sizes'` is a list containing tuples, (width, height) representing the original width and height the image.\n",
    "- `'coords'` is a list containing tuples, (x1, y1, x2, y2) representing coordinates of a bounding box around the sign in the image. **THESE COORDINATES ASSUME THE ORIGINAL IMAGE. THE PICKLED DATA CONTAINS RESIZED VERSIONS (32 by 32) OF THESE IMAGES**\n",
    "\n",
    "Complete the basic data summary below. Use python, numpy and/or pandas methods to calculate the data summary rather than hard coding the results. For example, the [pandas shape method](http://pandas.pydata.org/pandas-docs/stable/generated/pandas.DataFrame.shape.html) might be useful for calculating some of the summary results. "
   ]
  },
  {
   "cell_type": "markdown",
   "metadata": {},
   "source": [
    "### Provide a Basic Summary of the Data Set Using Python, Numpy and/or Pandas"
   ]
  },
  {
   "cell_type": "code",
   "execution_count": 10,
   "metadata": {
    "collapsed": false
   },
   "outputs": [
    {
     "name": "stdout",
     "output_type": "stream",
     "text": [
      "Number of training examples = 34799\n",
      "Number of validation examples = 4410\n",
      "Number of testing examples = 12630\n",
      "Image data shape = (32, 32, 3)\n",
      "Number of classes = 43\n"
     ]
    }
   ],
   "source": [
    "### Replace each question mark with the appropriate value. \n",
    "### Use python, pandas or numpy methods rather than hard coding the results\n",
    "\n",
    "# Number of training examples\n",
    "n_train = X_train0.shape[0]\n",
    "\n",
    "# Number of validation examples\n",
    "n_validation = X_valid0.shape[0]\n",
    "\n",
    "# Number of testing examples.\n",
    "n_test = X_test0.shape[0]\n",
    "\n",
    "# What's the shape of an traffic sign image?\n",
    "image_shape = X_train0.shape[1], X_train0.shape[2], X_train0.shape[3]\n",
    "\n",
    "# How many unique classes/labels there are in the dataset.\n",
    "n_classes = np.max(np.unique(y_train0).shape)\n",
    "\n",
    "print(\"Number of training examples =\", n_train)\n",
    "print(\"Number of validation examples =\", n_validation)\n",
    "print(\"Number of testing examples =\", n_test)\n",
    "print(\"Image data shape =\", image_shape)\n",
    "print(\"Number of classes =\", n_classes)"
   ]
  },
  {
   "cell_type": "markdown",
   "metadata": {},
   "source": [
    "### Include an exploratory visualization of the dataset"
   ]
  },
  {
   "cell_type": "markdown",
   "metadata": {},
   "source": [
    "Visualize the German Traffic Signs Dataset using the pickled file(s). This is open ended, suggestions include: plotting traffic sign images, plotting the count of each sign, etc. \n",
    "\n",
    "The [Matplotlib](http://matplotlib.org/) [examples](http://matplotlib.org/examples/index.html) and [gallery](http://matplotlib.org/gallery.html) pages are a great resource for doing visualizations in Python.\n",
    "\n",
    "**NOTE:** It's recommended you start with something simple first. If you wish to do more, come back to it after you've completed the rest of the sections. It can be interesting to look at the distribution of classes in the training, validation and test set. Is the distribution the same? Are there more examples of some classes than others?"
   ]
  },
  {
   "cell_type": "code",
   "execution_count": 11,
   "metadata": {
    "collapsed": false
   },
   "outputs": [
    {
     "name": "stdout",
     "output_type": "stream",
     "text": [
      "31090 16454 23597 34044\n"
     ]
    },
    {
     "data": {
      "image/png": "[encoded data removed]",
      "text/plain": [
       "<matplotlib.figure.Figure at 0x7fecad530550>"
      ]
     },
     "metadata": {},
     "output_type": "display_data"
    },
    {
     "data": {
      "text/plain": [
       "(array([  180.,  1980.,  2010.,  1260.,  1770.,  1650.,   360.,  1290.,\n",
       "         1260.,  1320.,  1800.,  1170.,  1890.,  1920.,   690.,   540.,\n",
       "          360.,   990.,  1080.,   180.,   300.,   270.,   330.,   450.,\n",
       "          240.,  1350.,   540.,   210.,   480.,   240.,   390.,   690.,\n",
       "          210.,   599.,   360.,  1080.,   330.,   180.,  1860.,   270.,\n",
       "          300.,   210.,   210.]),\n",
       " array([  0.        ,   0.97674419,   1.95348837,   2.93023256,\n",
       "          3.90697674,   4.88372093,   5.86046512,   6.8372093 ,\n",
       "          7.81395349,   8.79069767,   9.76744186,  10.74418605,\n",
       "         11.72093023,  12.69767442,  13.6744186 ,  14.65116279,\n",
       "         15.62790698,  16.60465116,  17.58139535,  18.55813953,\n",
       "         19.53488372,  20.51162791,  21.48837209,  22.46511628,\n",
       "         23.44186047,  24.41860465,  25.39534884,  26.37209302,\n",
       "         27.34883721,  28.3255814 ,  29.30232558,  30.27906977,\n",
       "         31.25581395,  32.23255814,  33.20930233,  34.18604651,\n",
       "         35.1627907 ,  36.13953488,  37.11627907,  38.09302326,\n",
       "         39.06976744,  40.04651163,  41.02325581,  42.        ]),\n",
       " <a list of 43 Patch objects>)"
      ]
     },
     "execution_count": 11,
     "metadata": {},
     "output_type": "execute_result"
    },
    {
     "data": {
      "image/png": "[encoded data removed]",
      "text/plain": [
       "<matplotlib.figure.Figure at 0x7fec826fdef0>"
      ]
     },
     "metadata": {},
     "output_type": "display_data"
    }
   ],
   "source": [
    "### Data exploration visualization code goes here.\n",
    "### Feel free to use as many code cells as needed.\n",
    "import matplotlib.pyplot as plt\n",
    "import matplotlib.image as mpimg\n",
    "# Visualizations will be shown in the notebook.\n",
    "%matplotlib inline\n",
    "\n",
    "im1 = np.round(np.random.random_sample()*n_train).astype(int)\n",
    "im2 = np.round(np.random.random_sample()*n_train).astype(int)\n",
    "im3 = np.round(np.random.random_sample()*n_train).astype(int)\n",
    "im4 = np.round(np.random.random_sample()*n_train).astype(int)\n",
    "\n",
    "print(im1, im2, im3, im4)\n",
    "\n",
    "fig, axs = plt.subplots(nrows=2, ncols=2)\n",
    "axs[0, 0].imshow(X_train0[im1,:,:,:])\n",
    "axs[0, 1].imshow(X_train0[im2,:,:,:])\n",
    "axs[1, 0].imshow(X_train0[im3,:,:,:])\n",
    "axs[1, 1].imshow(X_train0[im4,:,:,:])\n",
    "\n",
    "plt.show()\n",
    "\n",
    "plt.figure()\n",
    "plt.hist(train['labels'], n_classes)"
   ]
  },
  {
   "cell_type": "markdown",
   "metadata": {},
   "source": [
    "Clearly data is not well distributed."
   ]
  },
  {
   "cell_type": "markdown",
   "metadata": {},
   "source": [
    "----\n",
    "\n",
    "## Step 2: Design and Test a Model Architecture\n",
    "\n",
    "Design and implement a deep learning model that learns to recognize traffic signs. Train and test your model on the [German Traffic Sign Dataset](http://benchmark.ini.rub.de/?section=gtsrb&subsection=dataset).\n",
    "\n",
    "The LeNet-5 implementation shown in the [classroom](https://classroom.udacity.com/nanodegrees/nd013/parts/fbf77062-5703-404e-b60c-95b78b2f3f9e/modules/6df7ae49-c61c-4bb2-a23e-6527e69209ec/lessons/601ae704-1035-4287-8b11-e2c2716217ad/concepts/d4aca031-508f-4e0b-b493-e7b706120f81) at the end of the CNN lesson is a solid starting point. You'll have to change the number of classes and possibly the preprocessing, but aside from that it's plug and play! \n",
    "\n",
    "With the LeNet-5 solution from the lecture, you should expect a validation set accuracy of about 0.89. To meet specifications, the validation set accuracy will need to be at least 0.93. It is possible to get an even higher accuracy, but 0.93 is the minimum for a successful project submission. \n",
    "\n",
    "There are various aspects to consider when thinking about this problem:\n",
    "\n",
    "- Neural network architecture (is the network over or underfitting?)\n",
    "- Play around preprocessing techniques (normalization, rgb to grayscale, etc)\n",
    "- Number of examples per label (some have more than others).\n",
    "- Generate fake data.\n",
    "\n",
    "Here is an example of a [published baseline model on this problem](http://yann.lecun.com/exdb/publis/pdf/sermanet-ijcnn-11.pdf). It's not required to be familiar with the approach used in the paper but, it's good practice to try to read papers like these."
   ]
  },
  {
   "cell_type": "markdown",
   "metadata": {},
   "source": [
    "### Pre-process the Data Set (normalization, grayscale, etc.)"
   ]
  },
  {
   "cell_type": "markdown",
   "metadata": {},
   "source": [
    "Minimally, the image data should be normalized so that the data has mean zero and equal variance. For image data, `(pixel - 128)/ 128` is a quick way to approximately normalize the data and can be used in this project. \n",
    "\n",
    "Other pre-processing steps are optional. You can try different techniques to see if it improves performance. \n",
    "\n",
    "Use the code cell (or multiple code cells, if necessary) to implement the first step of your project."
   ]
  },
  {
   "cell_type": "code",
   "execution_count": 12,
   "metadata": {
    "collapsed": false
   },
   "outputs": [
    {
     "name": "stdout",
     "output_type": "stream",
     "text": [
      "max min  -0.488235294118 0.5\n",
      "Normalized grayscaled images.\n"
     ]
    },
    {
     "data": {
      "image/png": "[encoded data removed]",
      "text/plain": [
       "<matplotlib.figure.Figure at 0x7fec8273c7f0>"
      ]
     },
     "metadata": {},
     "output_type": "display_data"
    },
    {
     "name": "stdout",
     "output_type": "stream",
     "text": [
      "Done preprocessing.\n"
     ]
    }
   ],
   "source": [
    "### Preprocess the data here. \n",
    "\n",
    "from sklearn.utils import shuffle\n",
    "from skimage import exposure\n",
    "from skimage.color import rgb2gray\n",
    "from datetime import datetime\n",
    "# import cv2 # grayscale function\n",
    "\n",
    "# normalization\n",
    "#X_train1 = (X_train0 - 128)/128\n",
    "#X_valid1 = (X_valid0 - 128)/128\n",
    "\n",
    "# training data\n",
    "X_train = np.zeros((n_train, X_train0.shape[1], X_train0.shape[2], 1), np.int)\n",
    "\n",
    "# validation data\n",
    "X_valid = np.zeros((n_validation, X_valid0.shape[1], X_valid0.shape[2], 1), np.int)\n",
    "\n",
    "# grayscale luminosity\n",
    "#lum = np.ndarray((3,), np.float, np.array([0.210, 0.720, 0.070]))\n",
    "lum = np.ndarray((3,), np.float, np.array([0.299, 0.587, 0.114]))\n",
    "\n",
    "y_train = y_train0\n",
    "y_valid = y_valid0\n",
    "\n",
    "for i in range(n_train):\n",
    "    # grayscale with CV2\n",
    "    #X_train[i,:,:,:] = cv2.cvtColor(X_train[i,:,:,:], cv2.COLOR_RGB2GRAY)\n",
    "    \n",
    "    # grayscale with luminosity\n",
    "    # 0.21 R + 0.72 G + 0.07 B.\n",
    "    #X_train[i,:,:,0] = (X_train1[i,:,:,0]*0.21 + X_train1[i,:,:,1]*0.72 + X_train1[i,:,:,2]*0.07).astype(int)\n",
    "    # also suggested in CarND online foruns\n",
    "    #X_train[i,:,:,0] = np.dot(X_train1[i,:,:,:], lum).astype(int)\n",
    "    X_train[i,:,:,0] = np.dot(X_train0[i,:,:,:], lum)\n",
    "    #p2, p98 = np.percentile(X_train1[i,:,:,:], (2, 98))\n",
    "    #X_train1[i,:,:,:] = exposure.rescale_intensity(X_train1[i,:,:,:], in_range=(p2, p98))\n",
    "    #pass\n",
    "    #X_train[i,:,:,0] = np.dot(X_train1[i,:,:,:]\n",
    "    #X_train[i,:,:,0] = rgb2gray(X_train1[i,:,:,:])\n",
    "    \n",
    "\n",
    "for i in range(n_validation):\n",
    "    # grayscale of the normalized image\n",
    "    X_valid[i,:,:,0] = np.dot(X_valid0[i,:,:,:], lum).astype(int)\n",
    "\n",
    "# normalized after grayscale and save computing costs\n",
    "X_train = (X_train/255.0)-0.5\n",
    "X_valid = (X_valid/255.0)-0.5\n",
    "\n",
    "# check data\n",
    "print(\"max min \",np.amin(X_train), np.amax(X_train))\n",
    "\n",
    "#plt.figure()\n",
    "#plt.hist(np.amax(X_train), 11)\n",
    "\n",
    "#X_train, y_train = shuffle(X_train, y_train)\n",
    "\n",
    "fig, axs = plt.subplots(nrows=2, ncols=2)\n",
    "axs[0, 0].imshow(X_train[im1,:,:,0], cmap=plt.cm.gray)\n",
    "axs[0, 1].imshow(X_train[im2,:,:,0], cmap=plt.cm.gray)\n",
    "axs[1, 0].imshow(X_train[im3,:,:,0], cmap=plt.cm.gray)\n",
    "axs[1, 1].imshow(X_train[im4,:,:,0], cmap=plt.cm.gray)\n",
    "\n",
    "print(\"Normalized grayscaled images.\")\n",
    "plt.show()\n",
    "\n",
    "print(\"Done preprocessing.\")"
   ]
  },
  {
   "cell_type": "markdown",
   "metadata": {},
   "source": [
    "### Model Architecture"
   ]
  },
  {
   "cell_type": "code",
   "execution_count": 13,
   "metadata": {
    "collapsed": false
   },
   "outputs": [],
   "source": [
    "### Define your architecture here.\n",
    "### Feel free to use as many code cells as needed.\n",
    "\n",
    "import tensorflow as tf\n",
    "from tensorflow.contrib.layers import flatten\n",
    "from tensorflow.python.client import device_lib\n",
    "\n",
    "import platform\n",
    "\n",
    "def factory(n_classes, mu = 0, sigma = 0.1):\n",
    "    \n",
    "    def LeNet(x):    \n",
    "\n",
    "        # W=32, F=5, P=0, S=1\n",
    "        # out = 1 + [W-F+2P]/S  => 1 + (32-5+0)/1 = 28\n",
    "        # Input = 32x32x1. Output = 28x28x6.\n",
    "        # number of filters is arbitraty\n",
    "        # https://discussions.udacity.com/t/define-input-depth-output-depth-f/238575/14\n",
    "        # \n",
    "        conv1_W = tf.Variable(tf.truncated_normal(shape=(5, 5, 1, 16), mean = mu, stddev = sigma))\n",
    "        conv1_b = tf.Variable(tf.zeros(16))\n",
    "        conv1   = tf.nn.conv2d(x, conv1_W, strides=[1, 1, 1, 1], padding='VALID') + conv1_b\n",
    "\n",
    "        # Activation.\n",
    "        conv1 = tf.nn.relu(conv1)\n",
    "\n",
    "        # out = 1 + [W-F+2P]/S  => 1+(28-2+0)/2 = 14\n",
    "        # Pooling. Input = 28x28x16, Output = 14x14x16.\n",
    "        conv1 = tf.nn.max_pool(conv1, ksize=[1, 2, 2, 1], strides=[1, 2, 2, 1], padding='VALID')\n",
    "\n",
    "        # out = 1 + [W-F+2P]/S  => 1+(14-5+0)/1 = 10\n",
    "        # Layer 2: Convolutional. Input = 14x14x16, Output = 10x10x32.\n",
    "        conv2_W = tf.Variable(tf.truncated_normal(shape=(5, 5, 16, 32), mean = mu, stddev = sigma))\n",
    "        conv2_b = tf.Variable(tf.zeros(32))\n",
    "        conv2   = tf.nn.conv2d(conv1, conv2_W, strides=[1, 1, 1, 1], padding='VALID') + conv2_b\n",
    "\n",
    "        # Activation.\n",
    "        conv2 = tf.nn.relu(conv2)\n",
    "\n",
    "        # out = 1 + [W-F+2P]/S  => 1+(10-2+0)/2 = 5\n",
    "        # Pooling. Input = 10x10x16, Output = 5x5x32.\n",
    "        conv2 = tf.nn.max_pool(conv2, ksize=[1, 2, 2, 1], strides=[1, 2, 2, 1], padding='VALID')\n",
    "\n",
    "        # Flatten. Input = 5x5x32. Output = 800.\n",
    "        fc0   = flatten(conv2)\n",
    "\n",
    "        # out = 1 + [W-F+2P]/S  => \n",
    "        # Layer 3: Fully Connected. Input = 800. Output = 400.\n",
    "        fc1_W = tf.Variable(tf.truncated_normal(shape=(800, 400), mean = mu, stddev = sigma))\n",
    "        fc1_b = tf.Variable(tf.zeros(400))\n",
    "        fc1   = tf.matmul(fc0, fc1_W) + fc1_b\n",
    "\n",
    "        # Activation.\n",
    "        fc1    = tf.nn.relu(fc1)\n",
    "        \n",
    "        # layer 3\n",
    "        fc2_W = tf.Variable(tf.truncated_normal(shape=(400, 129), mean = mu, stddev = sigma))\n",
    "        fc2_b = tf.Variable(tf.zeros(129))\n",
    "        fc2    = tf.matmul(fc1, fc2_W) + fc2_b\n",
    "        \n",
    "        fc2    = tf.nn.relu(fc2)\n",
    "\n",
    "        # Layer 4: Fully Connected. Input = 129. Output = 86.\n",
    "        fc3_W  = tf.Variable(tf.truncated_normal(shape=(129, 86), mean = mu, stddev = sigma))\n",
    "        fc3_b  = tf.Variable(tf.zeros(86))\n",
    "        fc3    = tf.matmul(fc2, fc3_W) + fc3_b\n",
    "\n",
    "        # Activation.\n",
    "        fc3    = tf.nn.relu(fc3)\n",
    "\n",
    "        # layer 5\n",
    "        # Input = ? Output = n_classes.\n",
    "        fc4_W  = tf.Variable(tf.truncated_normal(shape=(86, n_classes), mean = mu, stddev = sigma))\n",
    "        fc4_b  = tf.Variable(tf.zeros(n_classes))\n",
    "        \n",
    "        # final\n",
    "        logits = tf.matmul(fc3, fc4_W) + fc4_b\n",
    "\n",
    "        return logits\n",
    "    return LeNet"
   ]
  },
  {
   "cell_type": "markdown",
   "metadata": {},
   "source": [
    "### Train, Validate and Test the Model"
   ]
  },
  {
   "cell_type": "markdown",
   "metadata": {},
   "source": [
    "A validation set can be used to assess how well the model is performing. A low accuracy on the training and validation\n",
    "sets imply underfitting. A high accuracy on the training set but low accuracy on the validation set implies overfitting."
   ]
  },
  {
   "cell_type": "code",
   "execution_count": 14,
   "metadata": {
    "collapsed": true
   },
   "outputs": [],
   "source": [
    "\n",
    "def evaluate(X_data, y_data):\n",
    "    num_examples = len(X_data)\n",
    "    total_accuracy = 0\n",
    "    total_loss = 0\n",
    "    sess = tf.get_default_session()\n",
    "    for offset in range(0, num_examples, BATCH_SIZE):\n",
    "        batch_x, batch_y = X_data[offset:offset+BATCH_SIZE], y_data[offset:offset+BATCH_SIZE]\n",
    "        loss, accuracy = sess.run([loss_operation, accuracy_operation], feed_dict={x: batch_x, y: batch_y})\n",
    "        total_loss += (loss*len(batch_x))\n",
    "        total_accuracy += (accuracy * len(batch_x))\n",
    "    return total_loss/num_examples, total_accuracy / num_examples\n"
   ]
  },
  {
   "cell_type": "code",
   "execution_count": 15,
   "metadata": {
    "collapsed": false
   },
   "outputs": [
    {
     "name": "stdout",
     "output_type": "stream",
     "text": [
      "System:  \n",
      "uname_result(system='Linux', node='ip-172-31-32-67', release='4.4.0-96-generic', version='#119-Ubuntu SMP Tue Sep 12 14:59:54 UTC 2017', machine='x86_64', processor='x86_64')\n",
      "\n",
      "['/gpu:0']\n",
      "\n",
      "2017-10-11 01:08:27.476182  - Training...\n",
      "\n",
      "EPOCH 1 ...\n",
      "Validation Accuracy = 0.746\n",
      "\n",
      "EPOCH 2 ...\n",
      "Validation Accuracy = 0.850\n",
      "\n",
      "EPOCH 3 ...\n",
      "Validation Accuracy = 0.880\n",
      "\n",
      "EPOCH 4 ...\n",
      "Validation Accuracy = 0.883\n",
      "\n",
      "EPOCH 5 ...\n",
      "Validation Accuracy = 0.910\n",
      "\n",
      "EPOCH 6 ...\n",
      "Validation Accuracy = 0.902\n",
      "\n",
      "EPOCH 7 ...\n",
      "Validation Accuracy = 0.886\n",
      "\n",
      "EPOCH 8 ...\n",
      "Validation Accuracy = 0.909\n",
      "\n",
      "EPOCH 9 ...\n",
      "Validation Accuracy = 0.918\n",
      "\n",
      "EPOCH 10 ...\n",
      "Validation Accuracy = 0.907\n",
      "\n",
      "EPOCH 11 ...\n",
      "Validation Accuracy = 0.927\n",
      "\n",
      "EPOCH 12 ...\n",
      "Validation Accuracy = 0.910\n",
      "\n",
      "EPOCH 13 ...\n",
      "Validation Accuracy = 0.926\n",
      "\n",
      "EPOCH 14 ...\n",
      "Validation Accuracy = 0.904\n",
      "\n",
      "EPOCH 15 ...\n",
      "Validation Accuracy = 0.922\n",
      "\n",
      "EPOCH 16 ...\n",
      "Validation Accuracy = 0.931\n",
      "\n",
      "EPOCH 17 ...\n",
      "Validation Accuracy = 0.924\n",
      "\n",
      "EPOCH 18 ...\n",
      "Validation Accuracy = 0.915\n",
      "\n",
      "EPOCH 19 ...\n",
      "Validation Accuracy = 0.950\n",
      "\n",
      "EPOCH 20 ...\n",
      "Validation Accuracy = 0.938\n",
      "\n",
      "EPOCH 21 ...\n",
      "Validation Accuracy = 0.948\n",
      "\n",
      "EPOCH 22 ...\n",
      "Validation Accuracy = 0.949\n",
      "\n",
      "EPOCH 23 ...\n",
      "Validation Accuracy = 0.950\n",
      "\n",
      "EPOCH 24 ...\n",
      "Validation Accuracy = 0.953\n",
      "\n",
      "EPOCH 25 ...\n",
      "Validation Accuracy = 0.944\n",
      "\n",
      "EPOCH 26 ...\n",
      "Validation Accuracy = 0.951\n",
      "\n",
      "EPOCH 27 ...\n",
      "Validation Accuracy = 0.936\n",
      "\n",
      "EPOCH 28 ...\n",
      "Validation Accuracy = 0.931\n",
      "\n",
      "EPOCH 29 ...\n",
      "Validation Accuracy = 0.955\n",
      "\n",
      "EPOCH 30 ...\n",
      "Validation Accuracy = 0.950\n",
      "\n",
      "EPOCH 31 ...\n",
      "Validation Accuracy = 0.954\n",
      "\n",
      "EPOCH 32 ...\n",
      "Validation Accuracy = 0.952\n",
      "\n",
      "EPOCH 33 ...\n",
      "Validation Accuracy = 0.962\n",
      "\n",
      "EPOCH 34 ...\n",
      "Validation Accuracy = 0.929\n",
      "\n",
      "EPOCH 35 ...\n",
      "Validation Accuracy = 0.950\n",
      "\n",
      "EPOCH 36 ...\n",
      "Validation Accuracy = 0.949\n",
      "\n",
      "EPOCH 37 ...\n",
      "Validation Accuracy = 0.955\n",
      "\n",
      "EPOCH 38 ...\n",
      "Validation Accuracy = 0.955\n",
      "\n",
      "EPOCH 39 ...\n",
      "Validation Accuracy = 0.955\n",
      "\n",
      "EPOCH 40 ...\n",
      "Validation Accuracy = 0.953\n",
      "\n",
      "EPOCH 41 ...\n",
      "Validation Accuracy = 0.953\n",
      "\n",
      "EPOCH 42 ...\n",
      "Validation Accuracy = 0.953\n",
      "\n",
      "EPOCH 43 ...\n",
      "Validation Accuracy = 0.953\n",
      "\n",
      "EPOCH 44 ...\n",
      "Validation Accuracy = 0.951\n",
      "\n",
      "EPOCH 45 ...\n",
      "Validation Accuracy = 0.930\n",
      "\n",
      "EPOCH 46 ...\n",
      "Validation Accuracy = 0.951\n",
      "\n",
      "EPOCH 47 ...\n",
      "Validation Accuracy = 0.952\n",
      "\n",
      "EPOCH 48 ...\n",
      "Validation Accuracy = 0.959\n",
      "\n",
      "EPOCH 49 ...\n",
      "Validation Accuracy = 0.958\n",
      "\n",
      "EPOCH 50 ...\n",
      "Validation Accuracy = 0.958\n",
      "\n",
      "2017-10-11 01:11:26.421784  - Finished training\n",
      "Model saved\n"
     ]
    }
   ],
   "source": [
    "### Training pipeline\n",
    "\n",
    "x = tf.placeholder(tf.float32, (None, 32, 32, 1))\n",
    "y = tf.placeholder(tf.int32, (None))\n",
    "one_hot_y = tf.one_hot(y, n_classes)\n",
    "\n",
    "EPOCHS = 50\n",
    "BATCH_SIZE = 128\n",
    "#BATCH_SIZE = 256\n",
    "rate = 0.0005\n",
    "\n",
    "LeNetFn = factory(n_classes)\n",
    "logits = LeNetFn(x)\n",
    "cross_entropy = tf.nn.softmax_cross_entropy_with_logits(labels=one_hot_y, logits=logits)\n",
    "loss_operation = tf.reduce_mean(cross_entropy)\n",
    "optimizer = tf.train.AdamOptimizer(learning_rate = rate)\n",
    "training_operation = optimizer.minimize(loss_operation)\n",
    "\n",
    "correct_prediction = tf.equal(tf.argmax(logits, 1), tf.argmax(one_hot_y, 1))\n",
    "accuracy_operation = tf.reduce_mean(tf.cast(correct_prediction, tf.float32))\n",
    "saver = tf.train.Saver()\n",
    "\n",
    "print(\"System:  \")\n",
    "print(platform.uname())\n",
    "print(\"\")\n",
    "devices = [x.name for x in device_lib.list_local_devices() if x.device_type == 'GPU']\n",
    "print(devices)\n",
    "print(\"\")\n",
    "\n",
    "acc_epochs = np.zeros((EPOCHS,), np.float)\n",
    "loss_fn = np.zeros((EPOCHS,), np.float)\n",
    "\n",
    "with tf.Session() as sess:\n",
    "    sess.run(tf.global_variables_initializer())\n",
    "    num_examples = len(X_train)\n",
    "    \n",
    "    print(datetime.now().isoformat(' '), \" - Training...\")\n",
    "    print()\n",
    "    for i in range(EPOCHS):\n",
    "        X_train, y_train = shuffle(X_train, y_train)\n",
    "        for offset in range(0, num_examples, BATCH_SIZE):\n",
    "            end = offset + BATCH_SIZE\n",
    "            batch_x, batch_y = X_train[offset:end], y_train[offset:end]\n",
    "            sess.run(training_operation, feed_dict={x: batch_x, y: batch_y})\n",
    "            \n",
    "        loss, validation_accuracy = evaluate(X_valid, y_valid)\n",
    "        print(\"EPOCH {} ...\".format(i+1))\n",
    "        print(\"Validation Accuracy = {:.3f}\".format(validation_accuracy))\n",
    "        print()\n",
    "        acc_epochs[i] = validation_accuracy\n",
    "        loss_fn[i] = loss\n",
    "    \n",
    "    print(datetime.now().isoformat(' '), \" - Finished training\")\n",
    "    saver.save(sess, './lenet/lenet')\n",
    "    print(\"Model saved\")\n"
   ]
  },
  {
   "cell_type": "code",
   "execution_count": 16,
   "metadata": {
    "collapsed": false
   },
   "outputs": [
    {
     "name": "stdout",
     "output_type": "stream",
     "text": [
      "Average accuracy:  0.930662131506  highest acc:  0.961678004805\n"
     ]
    },
    {
     "data": {
      "image/png": "[encoded data removed]",
      "text/plain": [
       "<matplotlib.figure.Figure at 0x7fecafef1c50>"
      ]
     },
     "metadata": {},
     "output_type": "display_data"
    },
    {
     "data": {
      "text/plain": [
       "<matplotlib.figure.Figure at 0x7fecafe82e10>"
      ]
     },
     "metadata": {},
     "output_type": "display_data"
    },
    {
     "data": {
      "image/png": "[encoded data removed]",
      "text/plain": [
       "<matplotlib.figure.Figure at 0x7fecaff81e80>"
      ]
     },
     "metadata": {},
     "output_type": "display_data"
    },
    {
     "data": {
      "text/plain": [
       "<matplotlib.figure.Figure at 0x7fec82749320>"
      ]
     },
     "metadata": {},
     "output_type": "display_data"
    }
   ],
   "source": [
    "model_r_max = np.max(acc_epochs)\n",
    "print(\"Average accuracy: \", np.mean(acc_epochs), \" highest acc: \", model_r_max)\n",
    "plt.figure()\n",
    "plt.plot(acc_epochs)\n",
    "plt.xlabel(\"epochs\")\n",
    "plt.ylabel(\"accuracy\")\n",
    "plt.title(\"Model Accuracy over Epochs\")\n",
    "plt.show()\n",
    "plt.savefig(\"./output/evolution_1FD32_L5_E\"+str(EPOCHS)+\"_B\"+str(BATCH_SIZE)+\"_R\"+str(rate)+\"_A958.png\")\n",
    "\n",
    "plt.figure()\n",
    "plt.plot(loss_fn)\n",
    "plt.xlabel(\"epochs\")\n",
    "plt.ylabel(\"loss function\")\n",
    "plt.show()\n",
    "plt.savefig(\"./output/loss_1FD32_L5_E\"+str(EPOCHS)+\"_B\"+str(BATCH_SIZE)+\"_R\"+str(rate)+\"_A958.png\")\n",
    "\n"
   ]
  },
  {
   "cell_type": "markdown",
   "metadata": {},
   "source": [
    "# Evaluate"
   ]
  },
  {
   "cell_type": "code",
   "execution_count": null,
   "metadata": {
    "collapsed": true
   },
   "outputs": [],
   "source": []
  },
  {
   "cell_type": "code",
   "execution_count": null,
   "metadata": {
    "collapsed": true
   },
   "outputs": [],
   "source": [
    "### Calculate and report the accuracy on the training and validation set.\n",
    "### Once a final model architecture is selected, \n",
    "### the accuracy on the test set should be calculated and reported as well.\n",
    "### Feel free to use as many code cells as needed.\n",
    "\n",
    "with tf.Session() as sess:\n",
    "    saver.restore(sess, tf.train.latest_checkpoint('.'))\n",
    "\n",
    "    test_accuracy = evaluate(X_test, y_test)\n",
    "    print(\"Test Accuracy = {:.3f}\".format(test_accuracy))"
   ]
  },
  {
   "cell_type": "markdown",
   "metadata": {},
   "source": [
    "---\n",
    "\n",
    "## Step 3: Test a Model on New Images\n",
    "\n",
    "To give yourself more insight into how your model is working, download at least five pictures of German traffic signs from the web and use your model to predict the traffic sign type.\n",
    "\n",
    "You may find `signnames.csv` useful as it contains mappings from the class id (integer) to the actual sign name."
   ]
  },
  {
   "cell_type": "markdown",
   "metadata": {},
   "source": [
    "### Load and Output the Images"
   ]
  },
  {
   "cell_type": "code",
   "execution_count": null,
   "metadata": {
    "collapsed": true
   },
   "outputs": [],
   "source": [
    "### Load the images and plot them here.\n",
    "### Feel free to use as many code cells as needed."
   ]
  },
  {
   "cell_type": "markdown",
   "metadata": {},
   "source": [
    "### Predict the Sign Type for Each Image"
   ]
  },
  {
   "cell_type": "code",
   "execution_count": 3,
   "metadata": {
    "collapsed": true
   },
   "outputs": [],
   "source": [
    "### Run the predictions here and use the model to output the prediction for each image.\n",
    "### Make sure to pre-process the images with the same pre-processing pipeline used earlier.\n",
    "### Feel free to use as many code cells as needed."
   ]
  },
  {
   "cell_type": "markdown",
   "metadata": {},
   "source": [
    "### Analyze Performance"
   ]
  },
  {
   "cell_type": "code",
   "execution_count": 4,
   "metadata": {
    "collapsed": true
   },
   "outputs": [],
   "source": [
    "### Calculate the accuracy for these 5 new images. \n",
    "### For example, if the model predicted 1 out of 5 signs correctly, it's 20% accurate on these new images."
   ]
  },
  {
   "cell_type": "markdown",
   "metadata": {},
   "source": [
    "### Output Top 5 Softmax Probabilities For Each Image Found on the Web"
   ]
  },
  {
   "cell_type": "markdown",
   "metadata": {},
   "source": [
    "For each of the new images, print out the model's softmax probabilities to show the **certainty** of the model's predictions (limit the output to the top 5 probabilities for each image). [`tf.nn.top_k`](https://www.tensorflow.org/versions/r0.12/api_docs/python/nn.html#top_k) could prove helpful here. \n",
    "\n",
    "The example below demonstrates how tf.nn.top_k can be used to find the top k predictions for each image.\n",
    "\n",
    "`tf.nn.top_k` will return the values and indices (class ids) of the top k predictions. So if k=3, for each sign, it'll return the 3 largest probabilities (out of a possible 43) and the correspoding class ids.\n",
    "\n",
    "Take this numpy array as an example. The values in the array represent predictions. The array contains softmax probabilities for five candidate images with six possible classes. `tf.nn.top_k` is used to choose the three classes with the highest probability:\n",
    "\n",
    "```\n",
    "# (5, 6) array\n",
    "a = np.array([[ 0.24879643,  0.07032244,  0.12641572,  0.34763842,  0.07893497,\n",
    "         0.12789202],\n",
    "       [ 0.28086119,  0.27569815,  0.08594638,  0.0178669 ,  0.18063401,\n",
    "         0.15899337],\n",
    "       [ 0.26076848,  0.23664738,  0.08020603,  0.07001922,  0.1134371 ,\n",
    "         0.23892179],\n",
    "       [ 0.11943333,  0.29198961,  0.02605103,  0.26234032,  0.1351348 ,\n",
    "         0.16505091],\n",
    "       [ 0.09561176,  0.34396535,  0.0643941 ,  0.16240774,  0.24206137,\n",
    "         0.09155967]])\n",
    "```\n",
    "\n",
    "Running it through `sess.run(tf.nn.top_k(tf.constant(a), k=3))` produces:\n",
    "\n",
    "```\n",
    "TopKV2(values=array([[ 0.34763842,  0.24879643,  0.12789202],\n",
    "       [ 0.28086119,  0.27569815,  0.18063401],\n",
    "       [ 0.26076848,  0.23892179,  0.23664738],\n",
    "       [ 0.29198961,  0.26234032,  0.16505091],\n",
    "       [ 0.34396535,  0.24206137,  0.16240774]]), indices=array([[3, 0, 5],\n",
    "       [0, 1, 4],\n",
    "       [0, 5, 1],\n",
    "       [1, 3, 5],\n",
    "       [1, 4, 3]], dtype=int32))\n",
    "```\n",
    "\n",
    "Looking just at the first row we get `[ 0.34763842,  0.24879643,  0.12789202]`, you can confirm these are the 3 largest probabilities in `a`. You'll also notice `[3, 0, 5]` are the corresponding indices."
   ]
  },
  {
   "cell_type": "code",
   "execution_count": 3,
   "metadata": {
    "collapsed": true
   },
   "outputs": [],
   "source": [
    "### Print out the top five softmax probabilities for the predictions on the German traffic sign images found on the web. \n",
    "### Feel free to use as many code cells as needed."
   ]
  },
  {
   "cell_type": "markdown",
   "metadata": {},
   "source": [
    "### Project Writeup\n",
    "\n",
    "Once you have completed the code implementation, document your results in a project writeup using this [template](https://github.com/udacity/CarND-Traffic-Sign-Classifier-Project/blob/master/writeup_template.md) as a guide. The writeup can be in a markdown or pdf file. "
   ]
  },
  {
   "cell_type": "markdown",
   "metadata": {},
   "source": [
    "> **Note**: Once you have completed all of the code implementations and successfully answered each question above, you may finalize your work by exporting the iPython Notebook as an HTML document. You can do this by using the menu above and navigating to  \\n\",\n",
    "    \"**File -> Download as -> HTML (.html)**. Include the finished document along with this notebook as your submission."
   ]
  },
  {
   "cell_type": "markdown",
   "metadata": {},
   "source": [
    "---\n",
    "\n",
    "## Step 4 (Optional): Visualize the Neural Network's State with Test Images\n",
    "\n",
    " This Section is not required to complete but acts as an additional excersise for understaning the output of a neural network's weights. While neural networks can be a great learning device they are often referred to as a black box. We can understand what the weights of a neural network look like better by plotting their feature maps. After successfully training your neural network you can see what it's feature maps look like by plotting the output of the network's weight layers in response to a test stimuli image. From these plotted feature maps, it's possible to see what characteristics of an image the network finds interesting. For a sign, maybe the inner network feature maps react with high activation to the sign's boundary outline or to the contrast in the sign's painted symbol.\n",
    "\n",
    " Provided for you below is the function code that allows you to get the visualization output of any tensorflow weight layer you want. The inputs to the function should be a stimuli image, one used during training or a new one you provided, and then the tensorflow variable name that represents the layer's state during the training process, for instance if you wanted to see what the [LeNet lab's](https://classroom.udacity.com/nanodegrees/nd013/parts/fbf77062-5703-404e-b60c-95b78b2f3f9e/modules/6df7ae49-c61c-4bb2-a23e-6527e69209ec/lessons/601ae704-1035-4287-8b11-e2c2716217ad/concepts/d4aca031-508f-4e0b-b493-e7b706120f81) feature maps looked like for it's second convolutional layer you could enter conv2 as the tf_activation variable.\n",
    "\n",
    "For an example of what feature map outputs look like, check out NVIDIA's results in their paper [End-to-End Deep Learning for Self-Driving Cars](https://devblogs.nvidia.com/parallelforall/deep-learning-self-driving-cars/) in the section Visualization of internal CNN State. NVIDIA was able to show that their network's inner weights had high activations to road boundary lines by comparing feature maps from an image with a clear path to one without. Try experimenting with a similar test to show that your trained network's weights are looking for interesting features, whether it's looking at differences in feature maps from images with or without a sign, or even what feature maps look like in a trained network vs a completely untrained one on the same sign image.\n",
    "\n",
    "<figure>\n",
    " <img src=\"visualize_cnn.png\" width=\"380\" alt=\"Combined Image\" />\n",
    " <figcaption>\n",
    " <p></p> \n",
    " <p style=\"text-align: center;\"> Your output should look something like this (above)</p> \n",
    " </figcaption>\n",
    "</figure>\n",
    " <p></p> \n"
   ]
  },
  {
   "cell_type": "code",
   "execution_count": null,
   "metadata": {
    "collapsed": true
   },
   "outputs": [],
   "source": [
    "### Visualize your network's feature maps here.\n",
    "### Feel free to use as many code cells as needed.\n",
    "\n",
    "# image_input: the test image being fed into the network to produce the feature maps\n",
    "# tf_activation: should be a tf variable name used during your training procedure that represents the calculated state of a specific weight layer\n",
    "# activation_min/max: can be used to view the activation contrast in more detail, by default matplot sets min and max to the actual min and max values of the output\n",
    "# plt_num: used to plot out multiple different weight feature map sets on the same block, just extend the plt number for each new feature map entry\n",
    "\n",
    "def outputFeatureMap(image_input, tf_activation, activation_min=-1, activation_max=-1 ,plt_num=1):\n",
    "    # Here make sure to preprocess your image_input in a way your network expects\n",
    "    # with size, normalization, ect if needed\n",
    "    # image_input =\n",
    "    # Note: x should be the same name as your network's tensorflow data placeholder variable\n",
    "    # If you get an error tf_activation is not defined it may be having trouble accessing the variable from inside a function\n",
    "    activation = tf_activation.eval(session=sess,feed_dict={x : image_input})\n",
    "    featuremaps = activation.shape[3]\n",
    "    plt.figure(plt_num, figsize=(15,15))\n",
    "    for featuremap in range(featuremaps):\n",
    "        plt.subplot(6,8, featuremap+1) # sets the number of feature maps to show on each row and column\n",
    "        plt.title('FeatureMap ' + str(featuremap)) # displays the feature map number\n",
    "        if activation_min != -1 & activation_max != -1:\n",
    "            plt.imshow(activation[0,:,:, featuremap], interpolation=\"nearest\", vmin =activation_min, vmax=activation_max, cmap=\"gray\")\n",
    "        elif activation_max != -1:\n",
    "            plt.imshow(activation[0,:,:, featuremap], interpolation=\"nearest\", vmax=activation_max, cmap=\"gray\")\n",
    "        elif activation_min !=-1:\n",
    "            plt.imshow(activation[0,:,:, featuremap], interpolation=\"nearest\", vmin=activation_min, cmap=\"gray\")\n",
    "        else:\n",
    "            plt.imshow(activation[0,:,:, featuremap], interpolation=\"nearest\", cmap=\"gray\")"
   ]
  }
 ],
 "metadata": {
  "anaconda-cloud": {},
  "kernelspec": {
   "display_name": "Python [default]",
   "language": "python",
   "name": "python3"
  },
  "language_info": {
   "codemirror_mode": {
    "name": "ipython",
    "version": 3
   },
   "file_extension": ".py",
   "mimetype": "text/x-python",
   "name": "python",
   "nbconvert_exporter": "python",
   "pygments_lexer": "ipython3",
   "version": "3.5.2"
  }
 },
 "nbformat": 4,
 "nbformat_minor": 1
}
